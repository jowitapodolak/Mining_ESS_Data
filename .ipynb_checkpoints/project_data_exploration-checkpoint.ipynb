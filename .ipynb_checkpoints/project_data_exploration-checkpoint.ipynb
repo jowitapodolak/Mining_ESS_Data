{
 "cells": [
  {
   "cell_type": "code",
   "execution_count": 1,
   "metadata": {},
   "outputs": [
    {
     "name": "stderr",
     "output_type": "stream",
     "text": [
      "//anaconda3/lib/python3.7/site-packages/IPython/core/interactiveshell.py:3057: DtypeWarning: Columns (164) have mixed types. Specify dtype option on import or set low_memory=False.\n",
      "  interactivity=interactivity, compiler=compiler, result=result)\n"
     ]
    }
   ],
   "source": [
    "import pandas as pd \n",
    "import numpy as np\n",
    "import random\n",
    "import matplotlib.pyplot as plt\n",
    "import seaborn as sns; \n",
    "import math\n",
    "#TO BE CHANGED ON YOUR COMPUTERS\n",
    "dataInfo = pd.read_csv('/Users/jowi/Desktop/uni/DataMining/DataMining-FinalProject/european-social-survey/variables.csv') #metadata\n",
    "#TO BE CHANGED ON YOUR COMPUTERS\n",
    "data = pd.read_csv('/Users/jowi/Desktop/uni/DataMining/DataMining-FinalProject/european-social-survey/ESS8e02.1_F1.csv') #data\n",
    "#pd.set_option('display.max_colwidth', -1)\n",
    "#print(data['Question']) <- see all the questions"
   ]
  },
  {
   "cell_type": "markdown",
   "metadata": {},
   "source": [
    "DATA EXPLORATION"
   ]
  },
  {
   "cell_type": "code",
   "execution_count": null,
   "metadata": {},
   "outputs": [],
   "source": []
  },
  {
   "cell_type": "markdown",
   "metadata": {},
   "source": [
    "Data Normalization: \n",
    "Make sure the numerical columns wiht values in range 0-10 (numeric 2.0 type) are only in this range - get rid of values outside this range (66,77,99) by taking the mean.  "
   ]
  },
  {
   "cell_type": "code",
   "execution_count": 3,
   "metadata": {},
   "outputs": [
    {
     "name": "stdout",
     "output_type": "stream",
     "text": [
      "    idno cntry  happy  atchctr  pplhlp  trstplt  stflife  imwbcnt  rlgdgr  \\\n",
      "0      1    AT      5        5       3        2        5       10       0   \n",
      "1      2    AT      5        0       5        3        5        5       0   \n",
      "2      4    AT      8        8       4        3        9        4       6   \n",
      "3      6    AT      8        6       6        1        7       10       7   \n",
      "4     10    AT      5        8       7        6       10        5      10   \n",
      "5     11    AT      9        9       4        3        7        8       9   \n",
      "6     12    AT      7        4       6        2        5        3       5   \n",
      "7     13    AT      9        8       7        5        9        3       6   \n",
      "8     14    AT      9        8      10        9       10        9       0   \n",
      "9     15    AT      8        8       4        4        7        9       4   \n",
      "10     5     5      5        5       5        5        5        5       5   \n",
      "11    17    AT      7        8       2        0        7        0       0   \n",
      "12    18    AT      5        4       5        6        6        0       5   \n",
      "13    19    AT      8        6       7        5        8        5       6   \n",
      "14     5     5      5        5       5        5        5        5       5   \n",
      "15    22    AT      7        7       7        8        8        3       1   \n",
      "16    23    AT      9        9      10        5        9        5       0   \n",
      "17    24    AT      2        9       6        4        3        3       3   \n",
      "18    28    AT      6        9       4        6        7        5       3   \n",
      "19    29    AT      8       10       2        2        4        1       0   \n",
      "20    30    AT      7       10       2        3        8        2       5   \n",
      "21     5     5      5        5       5        5        5        5       5   \n",
      "22    34    AT      5        5       6        8        6        8       1   \n",
      "23    39    AT      8        9       9        2        6        6       8   \n",
      "24    42    AT      5        6       0        2        5        3       1   \n",
      "25    43    AT     10       10       2        2       10        5      10   \n",
      "26    45    AT      8       10       7        6        7        3       6   \n",
      "27    48    AT      8        9       9        6        8        8       7   \n",
      "28    49    AT      8        8       6        5        8        5       6   \n",
      "29    50    AT      8       10       6        3       10        0       8   \n",
      "30    52    AT      7        7       6        4        8        4       3   \n",
      "31    53    AT      8        8       3        3        9        3       5   \n",
      "32    54    AT      8       10       8        5        9        5       7   \n",
      "33    56    AT      8        9       6        4        8        5       5   \n",
      "34     5     5      5        5       5        5        5        5       5   \n",
      "35     5     5      5        5       5        5        5        5       5   \n",
      "36    60    AT      9        9       5        4        9        5       6   \n",
      "37     5     5      5        5       5        5        5        5       5   \n",
      "38     5     5      5        5       5        5        5        5       5   \n",
      "39    63    AT      3       10       3        3        3        8       7   \n",
      "40    64    AT      9       10       7        9        8        7       8   \n",
      "41     5     5      5        5       5        5        5        5       5   \n",
      "42    66    AT      8        9       7        2        9        6       9   \n",
      "43    67    AT      8       10       5        0       10        1       6   \n",
      "44     5     5      5        5       5        5        5        5       5   \n",
      "45    71    AT      7       10       4        4        8        5       9   \n",
      "46     5     5      5        5       5        5        5        5       5   \n",
      "47    74    AT      9       10       2        8        0        1       1   \n",
      "48    75    AT      7       10       6        2        9        0       2   \n",
      "49    76    AT      9        9       7        8        9        6       0   \n",
      "\n",
      "    lkredcc  lrscale  \n",
      "0        10        0  \n",
      "1         8        1  \n",
      "2         6        5  \n",
      "3         5        0  \n",
      "4        10        5  \n",
      "5         5        5  \n",
      "6         5        4  \n",
      "7         5        5  \n",
      "8         7        5  \n",
      "9         7        5  \n",
      "10        5        5  \n",
      "11        8        8  \n",
      "12        5        8  \n",
      "13        7        5  \n",
      "14        5        5  \n",
      "15        6        6  \n",
      "16        6        3  \n",
      "17        7        7  \n",
      "18        6        4  \n",
      "19        3        9  \n",
      "20        0        6  \n",
      "21        5        5  \n",
      "22        5        9  \n",
      "23        6       10  \n",
      "24        2        5  \n",
      "25        6        5  \n",
      "26        7        2  \n",
      "27        7        5  \n",
      "28       10        5  \n",
      "29       10        3  \n",
      "30        4        5  \n",
      "31        7        5  \n",
      "32        3        4  \n",
      "33        6        5  \n",
      "34        5        5  \n",
      "35        5        5  \n",
      "36        7        4  \n",
      "37        5        5  \n",
      "38        5        5  \n",
      "39       10        2  \n",
      "40        7        0  \n",
      "41        5        5  \n",
      "42        7        4  \n",
      "43        3        5  \n",
      "44        5        5  \n",
      "45        6        7  \n",
      "46        5        5  \n",
      "47        5        0  \n",
      "48        5        9  \n",
      "49        8        2  \n"
     ]
    }
   ],
   "source": [
    "dataSliced = data[['idno','cntry','happy','atchctr','pplhlp','trstplt','stflife','imwbcnt','rlgdgr','lkredcc','lrscale']] # now data is just 6 columns\n",
    "dataSliced0 = dataSliced.where(dataSliced['lrscale'] < 11, 5) \n",
    "dataSliced1 = dataSliced0.where(dataSliced0['pplhlp'] < 11, 5) #no data larger than 5 - if larger scale then just put 5 \n",
    "dataSliced2 = dataSliced1.where(dataSliced1['trstplt'] < 11, 5) # take mean instead of 5 (but how to calculate the mean before fetting rid of large valuse?)\n",
    "dataSliced3 = dataSliced2.where(dataSliced2['stflife'] < 11, 5) \n",
    "dataSliced4 = dataSliced3.where(dataSliced3['imwbcnt'] < 11, 5)\n",
    "dataSliced5 = dataSliced4.where(dataSliced4['rlgdgr'] < 11, 5) \n",
    "dataSliced6 = dataSliced5.where(dataSliced5['lkredcc'] < 11, 5)  # -> slow, is there a way to do it faster? Change into mean instead of 5\n",
    "#happy \n",
    "dataSliced7 = dataSliced6.where(dataSliced6['happy'] < 11, 5) \n",
    "#attatchment to a country\n",
    "dataSliced = dataSliced7.where(dataSliced7['atchctr'] < 11, 5) \n",
    "\n",
    "#Now all of those columns are 'clean' - meaning in range 0-10\n",
    "\n",
    "print(dataSliced.head(50))\n"
   ]
  },
  {
   "cell_type": "code",
   "execution_count": 4,
   "metadata": {},
   "outputs": [],
   "source": [
    "countries = dataSliced[['idno','cntry']].groupby('cntry')\n",
    "#After this operation I get a dataframe wiht idno as a column name anc=d cntry as INDEX"
   ]
  },
  {
   "cell_type": "code",
   "execution_count": 5,
   "metadata": {},
   "outputs": [
    {
     "name": "stdout",
     "output_type": "stream",
     "text": [
      "       idno\n",
      "cntry      \n",
      "5      9343\n",
      "AT     1693\n",
      "BE     1666\n",
      "CH     1327\n",
      "CZ     1859\n",
      "DE     2676\n",
      "EE     1652\n",
      "ES     1478\n",
      "FI     1823\n",
      "FR     1855\n",
      "GB     1681\n",
      "HU     1177\n",
      "IE     2127\n",
      "IL     1690\n",
      "IS      796\n",
      "IT     1576\n",
      "LT     1199\n",
      "NL     1505\n",
      "NO     1457\n",
      "PL     1135\n",
      "PT     1074\n",
      "RU     1174\n",
      "SE     1408\n",
      "SI     1016\n"
     ]
    }
   ],
   "source": [
    "peoplePerCountry = countries.count() #how many people from each country\n",
    "print(peoplePerCountry)"
   ]
  },
  {
   "cell_type": "code",
   "execution_count": 6,
   "metadata": {},
   "outputs": [
    {
     "data": {
      "text/plain": [
       "<matplotlib.axes._subplots.AxesSubplot at 0x1a22c14278>"
      ]
     },
     "execution_count": 6,
     "metadata": {},
     "output_type": "execute_result"
    },
    {
     "data": {
      "image/png": "[encoded data removed]",
      "text/plain": [
       "<Figure size 720x432 with 1 Axes>"
      ]
     },
     "metadata": {
      "needs_background": "light"
     },
     "output_type": "display_data"
    }
   ],
   "source": [
    "peoplePerCountry.plot.bar(rot=0, fontsize=8, width=0.9, figsize=(10,6))"
   ]
  },
  {
   "cell_type": "code",
   "execution_count": 7,
   "metadata": {},
   "outputs": [
    {
     "data": {
      "text/plain": [
       "44387"
      ]
     },
     "execution_count": 7,
     "metadata": {},
     "output_type": "execute_result"
    }
   ],
   "source": [
    "# in total: \n",
    "peoplePerCountry['idno'].sum() #44387 people took participation in the survey"
   ]
  },
  {
   "cell_type": "code",
   "execution_count": 8,
   "metadata": {},
   "outputs": [],
   "source": [
    "# derive germany and poland:\n",
    "dataPL = data[ data['cntry'] == 'PL']\n",
    "dataGE = data[ data['cntry'] == 'DE']"
   ]
  },
  {
   "cell_type": "markdown",
   "metadata": {},
   "source": [
    "\n"
   ]
  },
  {
   "cell_type": "code",
   "execution_count": null,
   "metadata": {},
   "outputs": [],
   "source": []
  },
  {
   "cell_type": "code",
   "execution_count": 9,
   "metadata": {},
   "outputs": [],
   "source": [
    "#we choose our label to be column = that asks whether a person is defining themselves as right or left wing:\n",
    "# column - lrscale - discrete values from 0 to 10 (ten meaning right) \n",
    "# only take into consideration 1 to 9 - the rest skew the data (10 Better place to live,77 Refusal,88 Don't know, 99 NA)\n",
    "#OR  - take mean which should be around 5:\n",
    "\n",
    "#data['happy'] = data['happy'].replace([77,88,99], 5, inplace=True) <- not working, dunno how to do it\n",
    "#print(data[['happy','cntry']])\n",
    "happiness = dataSliced[['happy','cntry']].groupby('cntry')\n",
    "HappinessPerCountry = happiness.mean() \n"
   ]
  },
  {
   "cell_type": "code",
   "execution_count": 10,
   "metadata": {},
   "outputs": [
    {
     "name": "stdout",
     "output_type": "stream",
     "text": [
      "          happy\n",
      "cntry          \n",
      "5      5.000000\n",
      "AT     7.591849\n",
      "BE     7.755102\n",
      "CH     8.220045\n",
      "CZ     6.866057\n",
      "DE     7.766069\n",
      "EE     7.300847\n",
      "ES     7.751691\n",
      "FI     8.156336\n",
      "FR     7.255526\n",
      "GB     7.650803\n",
      "HU     6.903993\n",
      "IE     7.519511\n",
      "IL     7.939053\n",
      "IS     8.128141\n",
      "IT     7.272843\n",
      "LT     6.410342\n",
      "NL     7.890365\n",
      "NO     8.135209\n",
      "PL     7.539207\n",
      "PT     7.363128\n",
      "RU     6.242760\n",
      "SE     7.864347\n",
      "SI     7.483268\n"
     ]
    }
   ],
   "source": [
    "print(HappinessPerCountry) #has anything besides values fro 0 -10 and if they do apply use mean"
   ]
  },
  {
   "cell_type": "code",
   "execution_count": 11,
   "metadata": {},
   "outputs": [],
   "source": [
    "# Polish are the happiest? dafuq?"
   ]
  },
  {
   "cell_type": "code",
   "execution_count": 12,
   "metadata": {},
   "outputs": [
    {
     "name": "stdout",
     "output_type": "stream",
     "text": [
      "        atchctr\n",
      "cntry          \n",
      "5      5.000000\n",
      "AT     7.974011\n",
      "BE     6.605042\n",
      "CH     7.928410\n",
      "CZ     7.875740\n",
      "DE     7.508595\n",
      "EE     7.813559\n",
      "ES     7.664411\n",
      "FI     8.420735\n",
      "FR     8.113747\n",
      "GB     7.076145\n",
      "HU     8.400170\n",
      "IE     7.761166\n",
      "IL     8.150296\n",
      "IS     8.228643\n",
      "IT     8.024112\n",
      "LT     7.888240\n",
      "NL     7.192027\n",
      "NO     8.343857\n",
      "PL     8.527753\n",
      "PT     8.438547\n",
      "RU     7.293867\n",
      "SE     7.966619\n",
      "SI     7.305118\n"
     ]
    }
   ],
   "source": [
    "attatchmentToCountry = dataSliced[['atchctr','cntry']].groupby('cntry')\n",
    "print(attatchmentToCountry.mean())\n"
   ]
  },
  {
   "cell_type": "markdown",
   "metadata": {},
   "source": [
    "DATA CLEANING - TO BE DONE"
   ]
  },
  {
   "cell_type": "markdown",
   "metadata": {},
   "source": [
    "PDA AND K-MEANS CLUSTERING"
   ]
  },
  {
   "cell_type": "code",
   "execution_count": 13,
   "metadata": {},
   "outputs": [],
   "source": [
    "from sklearn.cluster import KMeans\n",
    "from mpl_toolkits.mplot3d import Axes3D \n",
    "from sklearn.decomposition import PCA\n",
    "from matplotlib import colors as mcolors \n",
    "import math "
   ]
  },
  {
   "cell_type": "code",
   "execution_count": 88,
   "metadata": {},
   "outputs": [],
   "source": [
    "df_country = data.loc[data['cntry'] == 'DE']\n",
    "#group human values - not good clustering\n",
    "df_sliced = df_country[['ipbhprp','iprspot','ipcrtiv','imprich' ]]# DECIDOUT ABOUT FEATURES - BOTH BETWEEN 0 AND 10 AND ON A SCALE\n",
    "#print(df_sliced.head())"
   ]
  },
  {
   "cell_type": "code",
   "execution_count": 89,
   "metadata": {},
   "outputs": [
    {
     "name": "stdout",
     "output_type": "stream",
     "text": [
      "[2 0 1 ... 1 1 1]\n",
      "          0         1         2\n",
      "0  2.316974  1.074184 -1.469232\n",
      "1  1.477354  0.519795 -0.064768\n",
      "2 -0.379326 -1.420169  1.077044\n",
      "3 -0.958985 -0.868882  0.589019\n",
      "4  0.026461 -0.136552  0.736698\n"
     ]
    },
    {
     "data": {
      "image/png": "[encoded data removed]",
      "text/plain": [
       "<Figure size 432x288 with 1 Axes>"
      ]
     },
     "metadata": {
      "needs_background": "light"
     },
     "output_type": "display_data"
    }
   ],
   "source": [
    "#KMEANS\n",
    "clusters = 3\n",
    "kmeans = KMeans(n_clusters = clusters) \n",
    "kmeans.fit(df_sliced) \n",
    "print(kmeans.labels_)\n",
    "\n",
    "pca = PCA(3) \n",
    "pca.fit(df_sliced) \n",
    "  \n",
    "pca_data = pd.DataFrame(pca.transform(df_sliced)) \n",
    "  \n",
    "print(pca_data.head())\n",
    "\n",
    "\n",
    "\n",
    "# Generate different colors \n",
    "colors = list(zip(*sorted(( \n",
    "                    tuple(mcolors.rgb_to_hsv( \n",
    "                          mcolors.to_rgba(color)[:3])), name) \n",
    "                     for name, color in dict( \n",
    "                            mcolors.BASE_COLORS, **mcolors.CSS4_COLORS \n",
    "                                                      ).items())))[1] \n",
    "\n",
    "skips = math.floor(len(colors[5 : -5])/clusters) \n",
    "cluster_colors = colors[5 : -5 : skips]\n",
    "\n",
    "#####\n",
    "\n",
    "fig = plt.figure() \n",
    "ax = fig.add_subplot(111, projection = '3d') \n",
    "ax.scatter(pca_data[0], pca_data[1], pca_data[2],  \n",
    "           c = list(map(lambda label : cluster_colors[label], \n",
    "                                            kmeans.labels_))) \n",
    "   \n",
    "str_labels = list(map(lambda label:'% s' % label, kmeans.labels_)) \n",
    "   \n",
    "list(map(lambda data1, data2, data3, str_label: \n",
    "        ax.text(data1, data2, data3, s = str_label, size = 1, \n",
    "        zorder = 20, color = 'k'), pca_data[0], pca_data[1], \n",
    "        pca_data[2], str_labels)) \n",
    "   \n",
    "plt.show()\n",
    "\n",
    "#Nice but k-means plot is not very readable for now.\n"
   ]
  },
  {
   "cell_type": "markdown",
   "metadata": {},
   "source": [
    "SUPERVIDED LEARNING - DECISION TREE\n",
    "source: https://www.datacamp.com/community/tutorials/decision-tree-classification-python"
   ]
  },
  {
   "cell_type": "markdown",
   "metadata": {},
   "source": [
    "Attribute selection measures - a heuristic for selecting the splitting criterion that partition data into the best possible manner."
   ]
  },
  {
   "cell_type": "code",
   "execution_count": 14,
   "metadata": {},
   "outputs": [],
   "source": [
    "# Load libraries\n",
    "from sklearn.tree import DecisionTreeClassifier # Import Decision Tree Classifier\n",
    "from sklearn.model_selection import train_test_split # Import train_test_split function\n",
    "from sklearn import metrics #Import scikit-learn metrics module for accuracy calculation"
   ]
  },
  {
   "cell_type": "code",
   "execution_count": 15,
   "metadata": {},
   "outputs": [
    {
     "data": {
      "text/plain": [
       "\"\\n# group by groups to see which one is the best to create a decision tree (which one is the best indicator our label):\\n#List of columns for group 'Group Politics'\\n#THIS GROUP IS COUNTRY SPECIFIC - NOT APPLICABLE FOR THE WHOLE DATASET\\ndataPolitics = dataInfo.loc[dataInfo['Group']=='Group Politics']\\nnamesListP = dataPolitics['Name'].tolist()\\n#print(namesListP)\\nnamesListP.remove('lrscale')\\n#print(namesListP)\\n\\n# List of columns for group 'Group Climate change' \\ndataClimateChange = dataInfo.loc[dataInfo['Group']=='Group Climate change']\\nnamesListC = dataClimateChange['Name'].tolist() \\n#print(namesListC)\\n\\n# List of columns for group 'Group Subjective well-being, social exclusion, religion, national and ethnic identity' \\ndataWellBeing = dataInfo.loc[dataInfo['Group']=='Group Subjective well-being, social exclusion, religion, national and ethnic identity']\\nnamesListW = dataWellBeing['Name'].tolist() \\n#print(namesListW)\\n\\n# List of columns for group 'Group Welfare attitudes' \\ndataWelfare = dataInfo.loc[dataInfo['Group']=='Group Climate change']\\nnamesListWelfare = dataWelfare['Name'].tolist() \\n#print(namesListWelfare)\\n\\n#list of columns that are not country specific:\\ndataGeneralQuestions = dataInfo.loc[dataInfo['Country_specific']=='no']\\ndataGeneralQuestionsList = dataGeneralQuestions['Name'].tolist()\\n#print(dataGeneralQuestionsList)\\n\""
      ]
     },
     "execution_count": 15,
     "metadata": {},
     "output_type": "execute_result"
    }
   ],
   "source": [
    "\"\"\"\n",
    "# group by groups to see which one is the best to create a decision tree (which one is the best indicator our label):\n",
    "#List of columns for group 'Group Politics'\n",
    "#THIS GROUP IS COUNTRY SPECIFIC - NOT APPLICABLE FOR THE WHOLE DATASET\n",
    "dataPolitics = dataInfo.loc[dataInfo['Group']=='Group Politics']\n",
    "namesListP = dataPolitics['Name'].tolist()\n",
    "#print(namesListP)\n",
    "namesListP.remove('lrscale')\n",
    "#print(namesListP)\n",
    "\n",
    "# List of columns for group 'Group Climate change' \n",
    "dataClimateChange = dataInfo.loc[dataInfo['Group']=='Group Climate change']\n",
    "namesListC = dataClimateChange['Name'].tolist() \n",
    "#print(namesListC)\n",
    "\n",
    "# List of columns for group 'Group Subjective well-being, social exclusion, religion, national and ethnic identity' \n",
    "dataWellBeing = dataInfo.loc[dataInfo['Group']=='Group Subjective well-being, social exclusion, religion, national and ethnic identity']\n",
    "namesListW = dataWellBeing['Name'].tolist() \n",
    "#print(namesListW)\n",
    "\n",
    "# List of columns for group 'Group Welfare attitudes' \n",
    "dataWelfare = dataInfo.loc[dataInfo['Group']=='Group Climate change']\n",
    "namesListWelfare = dataWelfare['Name'].tolist() \n",
    "#print(namesListWelfare)\n",
    "\n",
    "#list of columns that are not country specific:\n",
    "dataGeneralQuestions = dataInfo.loc[dataInfo['Country_specific']=='no']\n",
    "dataGeneralQuestionsList = dataGeneralQuestions['Name'].tolist()\n",
    "#print(dataGeneralQuestionsList)\n",
    "\"\"\"\n"
   ]
  },
  {
   "cell_type": "markdown",
   "metadata": {},
   "source": [
    "Adding a lrscale3 to categorize people into three groups: left-wing, right-wing, and center (should be categorical string or number -(0(left),1(center),2)?)"
   ]
  },
  {
   "cell_type": "code",
   "execution_count": 16,
   "metadata": {},
   "outputs": [
    {
     "name": "stdout",
     "output_type": "stream",
     "text": [
      "    idno cntry  happy  atchctr  pplhlp  trstplt  stflife  imwbcnt  rlgdgr  \\\n",
      "0      1    AT      5        5       3        2        5       10       0   \n",
      "1      2    AT      5        0       5        3        5        5       0   \n",
      "2      4    AT      8        8       4        3        9        4       6   \n",
      "3      6    AT      8        6       6        1        7       10       7   \n",
      "4     10    AT      5        8       7        6       10        5      10   \n",
      "5     11    AT      9        9       4        3        7        8       9   \n",
      "6     12    AT      7        4       6        2        5        3       5   \n",
      "7     13    AT      9        8       7        5        9        3       6   \n",
      "8     14    AT      9        8      10        9       10        9       0   \n",
      "9     15    AT      8        8       4        4        7        9       4   \n",
      "10     5     5      5        5       5        5        5        5       5   \n",
      "11    17    AT      7        8       2        0        7        0       0   \n",
      "12    18    AT      5        4       5        6        6        0       5   \n",
      "13    19    AT      8        6       7        5        8        5       6   \n",
      "14     5     5      5        5       5        5        5        5       5   \n",
      "15    22    AT      7        7       7        8        8        3       1   \n",
      "16    23    AT      9        9      10        5        9        5       0   \n",
      "17    24    AT      2        9       6        4        3        3       3   \n",
      "18    28    AT      6        9       4        6        7        5       3   \n",
      "19    29    AT      8       10       2        2        4        1       0   \n",
      "20    30    AT      7       10       2        3        8        2       5   \n",
      "21     5     5      5        5       5        5        5        5       5   \n",
      "22    34    AT      5        5       6        8        6        8       1   \n",
      "23    39    AT      8        9       9        2        6        6       8   \n",
      "24    42    AT      5        6       0        2        5        3       1   \n",
      "25    43    AT     10       10       2        2       10        5      10   \n",
      "26    45    AT      8       10       7        6        7        3       6   \n",
      "27    48    AT      8        9       9        6        8        8       7   \n",
      "28    49    AT      8        8       6        5        8        5       6   \n",
      "29    50    AT      8       10       6        3       10        0       8   \n",
      "30    52    AT      7        7       6        4        8        4       3   \n",
      "31    53    AT      8        8       3        3        9        3       5   \n",
      "32    54    AT      8       10       8        5        9        5       7   \n",
      "33    56    AT      8        9       6        4        8        5       5   \n",
      "34     5     5      5        5       5        5        5        5       5   \n",
      "35     5     5      5        5       5        5        5        5       5   \n",
      "36    60    AT      9        9       5        4        9        5       6   \n",
      "37     5     5      5        5       5        5        5        5       5   \n",
      "38     5     5      5        5       5        5        5        5       5   \n",
      "39    63    AT      3       10       3        3        3        8       7   \n",
      "40    64    AT      9       10       7        9        8        7       8   \n",
      "41     5     5      5        5       5        5        5        5       5   \n",
      "42    66    AT      8        9       7        2        9        6       9   \n",
      "43    67    AT      8       10       5        0       10        1       6   \n",
      "44     5     5      5        5       5        5        5        5       5   \n",
      "45    71    AT      7       10       4        4        8        5       9   \n",
      "46     5     5      5        5       5        5        5        5       5   \n",
      "47    74    AT      9       10       2        8        0        1       1   \n",
      "48    75    AT      7       10       6        2        9        0       2   \n",
      "49    76    AT      9        9       7        8        9        6       0   \n",
      "\n",
      "    lkredcc  lrscale  lrscale3  \n",
      "0        10        0         0  \n",
      "1         8        1         0  \n",
      "2         6        5         2  \n",
      "3         5        0         0  \n",
      "4        10        5         2  \n",
      "5         5        5         2  \n",
      "6         5        4         0  \n",
      "7         5        5         2  \n",
      "8         7        5         2  \n",
      "9         7        5         2  \n",
      "10        5        5         2  \n",
      "11        8        8         1  \n",
      "12        5        8         1  \n",
      "13        7        5         2  \n",
      "14        5        5         2  \n",
      "15        6        6         2  \n",
      "16        6        3         0  \n",
      "17        7        7         1  \n",
      "18        6        4         0  \n",
      "19        3        9         1  \n",
      "20        0        6         2  \n",
      "21        5        5         2  \n",
      "22        5        9         1  \n",
      "23        6       10         1  \n",
      "24        2        5         2  \n",
      "25        6        5         2  \n",
      "26        7        2         0  \n",
      "27        7        5         2  \n",
      "28       10        5         2  \n",
      "29       10        3         0  \n",
      "30        4        5         2  \n",
      "31        7        5         2  \n",
      "32        3        4         0  \n",
      "33        6        5         2  \n",
      "34        5        5         2  \n",
      "35        5        5         2  \n",
      "36        7        4         0  \n",
      "37        5        5         2  \n",
      "38        5        5         2  \n",
      "39       10        2         0  \n",
      "40        7        0         0  \n",
      "41        5        5         2  \n",
      "42        7        4         0  \n",
      "43        3        5         2  \n",
      "44        5        5         2  \n",
      "45        6        7         1  \n",
      "46        5        5         2  \n",
      "47        5        0         0  \n",
      "48        5        9         1  \n",
      "49        8        2         0  \n"
     ]
    }
   ],
   "source": [
    "dataSliced['lrscale3'] = dataSliced['lrscale']\n",
    "#print(dataSliced.head(10))\n",
    "for index,row in dataSliced.iterrows(): # 0 means very left and 10 means very right\n",
    "    if row['lrscale'] < 5:\n",
    "                    #row['lrscale3'] = 'left' \n",
    "                    dataSliced.at[index,'lrscale3'] = 0 \n",
    "    elif row['lrscale'] > 6: \n",
    "                    #row['lrscale3'] = 'right'\n",
    "                    dataSliced.at[index,'lrscale3'] = 1 \n",
    "    else: \n",
    "                    #row['lrscale3'] = 'center' \n",
    "                    dataSliced.at[index,'lrscale3'] = 2\n",
    "print(dataSliced.head(50)) \n",
    "\n",
    "                   \n",
    "                    "
   ]
  },
  {
   "cell_type": "code",
   "execution_count": 22,
   "metadata": {},
   "outputs": [
    {
     "name": "stdout",
     "output_type": "stream",
     "text": [
      "\n"
     ]
    }
   ],
   "source": [
    "#split dataset in features and target variable\n",
    "#for taking all the features from table - not working rn :\n",
    "#I want to select all columns besides the target one - 'lrscale'\n",
    "#dataSliced = dataSliced.drop('lrscale', axis=1) # we don't that anymore - now we use lrscale3 (with only 3 possible values)\n",
    "dataSliced = dataSliced.drop('idno', axis=1)\n",
    "dataSliced = dataSliced.drop('cntry', axis=1)\n",
    "data_no_label = dataSliced.drop('lrscale3', axis=1)\n",
    "\n",
    "feature_cols = list(data_no_label.columns) # a list of ALL columns names, besides target lrscale)\n",
    "#print(feature_cols)\n",
    "\n",
    "#Take features just from social trust group \n",
    "#feature_cols = ['nwspol','netusoft','netustm','ppltrst','pplfair','pplhlp']\n",
    "#feature_cols = namesListC + namesListWelfare + namesListW \n",
    "\n",
    "#3rd approach - take only columns that are not country specific \n",
    "#feature_cols = dataGeneralQuestionsList\n",
    "x = dataSliced[feature_cols]\n",
    "y = dataSliced.lrscale3 # Target variable\n",
    "\n",
    "print()"
   ]
  },
  {
   "cell_type": "code",
   "execution_count": 18,
   "metadata": {},
   "outputs": [
    {
     "data": {
      "text/plain": [
       "'\"\\n#Just for one country (PL) \\ndata_no_label = dataPL.drop(\\'lrscale\\', axis=1)\\n#Take features just from social trust group \\n#feature_cols = [\\'nwspol\\',\\'netusoft\\',\\'netustm\\',\\'ppltrst\\',\\'pplfair\\',\\'pplhlp\\']\\nx = data[feature_cols]\\ny = data.lrscale # Target variable\\n'"
      ]
     },
     "execution_count": 18,
     "metadata": {},
     "output_type": "execute_result"
    }
   ],
   "source": [
    "\"\"\"\"\n",
    "#Just for one country (PL) \n",
    "data_no_label = dataPL.drop('lrscale', axis=1)\n",
    "#Take features just from social trust group \n",
    "#feature_cols = ['nwspol','netusoft','netustm','ppltrst','pplfair','pplhlp']\n",
    "x = data[feature_cols]\n",
    "y = data.lrscale # Target variable\n",
    "\"\"\""
   ]
  },
  {
   "cell_type": "code",
   "execution_count": 23,
   "metadata": {},
   "outputs": [],
   "source": [
    "# splitting into training and test set: \n",
    "x_train, x_test, y_train, y_test = train_test_split(x, y, test_size=0.1, random_state=1) # 90% training and 10% test"
   ]
  },
  {
   "cell_type": "code",
   "execution_count": 36,
   "metadata": {},
   "outputs": [],
   "source": [
    "#BULDING A MODEL:\n",
    "# Create Decision Tree classifer object\n",
    "clf = DecisionTreeClassifier(max_depth=8) # by defaul't uses gini index for measuring the quality of the split\n",
    "\n",
    "# Train Decision Tree Classifer\n",
    "clf = clf.fit(x_train,y_train) #fit - Build a decision tree classifier from the training set (X, y).\n",
    "\n",
    "#Predict the response for test dataset\n",
    "#print(x_test)\n",
    "y_pred = clf.predict(x_test)"
   ]
  },
  {
   "cell_type": "code",
   "execution_count": 37,
   "metadata": {},
   "outputs": [
    {
     "name": "stdout",
     "output_type": "stream",
     "text": [
      "Accuracy: 0.5744537057895922\n"
     ]
    }
   ],
   "source": [
    "print(\"Accuracy:\",metrics.accuracy_score(y_test, y_pred))\n",
    "# = only 15% of correct predictions for the whole dataset without specified max_depth\n",
    "\n",
    "#accuracy just with our 8 features - 50% \n",
    "\n",
    "#acuraccy with chosend features and max depth specified to 8 = 57.5 % \n",
    "\n",
    "# acuraccy with chosen 8 features and depth 4 = 56%  <- not enough levels, acuraccy drops \n",
    "\n",
    "# Next - specify more columns and then max depth or max sample and see if acuraccy improves. \n"
   ]
  },
  {
   "cell_type": "markdown",
   "metadata": {},
   "source": [
    "Firstly I did not specify the depth of the tree so the nodes were expanded until all leafes were pure.\n",
    "That was a big overfit and therefpre the acuraccy on the unseen instances was very low (15%). \n",
    "\n",
    "\"Decision-tree learners can create over-complex trees that do not generalise the data well. This is called overfitting. Mechanisms such as pruning (not currently supported), setting the minimum number of samples required at a leaf node or setting the maximum depth of the tree are necessary to avoid this problem.\"\n",
    "Over-fitting is the phenomenon in which the learning system tightly fits the given training data so much that it would be inaccurate in predicting the outcomes of the untrained data.\n",
    "In decision trees, over-fitting occurs when the tree is designed so as to perfectly fit all samples in the training data set. Thus it ends up with branches with strict rules of sparse data. Thus this effects the accuracy when predicting samples that are not part of the training set.\n",
    "\n",
    "\n",
    "TO change that either specify the depth of the tree (after specifying to depth 10 the acuraccy increased significantly ot 30% - but it is still a poor accuracy) \n",
    "Another ways - less dimensions (only chosen columns that make more sense - according to us the questions are very telling) "
   ]
  },
  {
   "cell_type": "code",
   "execution_count": null,
   "metadata": {},
   "outputs": [],
   "source": [
    "\n"
   ]
  },
  {
   "cell_type": "markdown",
   "metadata": {},
   "source": [
    "PLOT a TREE"
   ]
  },
  {
   "cell_type": "code",
   "execution_count": 39,
   "metadata": {},
   "outputs": [],
   "source": [
    "from sklearn import tree\n",
    "#tree.plot_tree(clf) "
   ]
  },
  {
   "cell_type": "markdown",
   "metadata": {},
   "source": [
    "Predict Jowita's political view:"
   ]
  },
  {
   "cell_type": "code",
   "execution_count": 40,
   "metadata": {},
   "outputs": [],
   "source": [
    "\"\"\"\n",
    "#create a dataform with all the answers\n",
    "#j_test = data[5, 5,600,8,8,7]\n",
    "j_test = pd.read_csv('/Users/jowi/Desktop/uni/DataMining/DataMining-FinalProject/jowita.csv')\n",
    "j_test_liberal = pd.read_csv('/Users/jowi/Desktop/uni/DataMining/DataMining-FinalProject/jowitaLiberal.csv')\n",
    "j_test_not_Trusting = pd.read_csv('/Users/jowi/Desktop/uni/DataMining/DataMining-FinalProject/jowitaNotTrusting.csv')\n",
    "jowita_pred = clf.predict(j_test)\n",
    "jowita_pred_liberal = clf.predict(j_test_liberal)\n",
    "jowita_pred_not_trusting = clf.predict(j_test_not_Trusting)\n",
    "\"\"\" \n",
    "#predicting for 8 featues\n",
    "j_test = pd.read_csv('/Users/jowi/Desktop/uni/DataMining/DataMining-FinalProject/jowita8features.csv')\n",
    "jowita_pred = clf.predict(j_test) \n",
    "\n"
   ]
  },
  {
   "cell_type": "code",
   "execution_count": 41,
   "metadata": {},
   "outputs": [],
   "source": [
    "# Predictions 1 - for columns: 'happy','atchctr','pplhlp','trstplt','stflife','imwbcnt','rlgdgr','lkredcc' , to see them uncomment below :\n",
    "#print(data_no_label) \n",
    "#To test it I create I answer those questions (my answer to lrscale3 is 0). I create a csv files with one row for that. Let's see what it will predict for me: \n"
   ]
  },
  {
   "cell_type": "code",
   "execution_count": 43,
   "metadata": {},
   "outputs": [
    {
     "name": "stdout",
     "output_type": "stream",
     "text": [
      "[0]\n"
     ]
    }
   ],
   "source": [
    "\"\"\"\n",
    "print(jowita_pred)\n",
    "print(jowita_pred_liberal)\n",
    "print(jowita_pred_not_trusting)\n",
    "\"\"\"\n",
    "#for 8 features: \n",
    "print(jowita_pred) # correct prediction"
   ]
  },
  {
   "cell_type": "code",
   "execution_count": null,
   "metadata": {},
   "outputs": [],
   "source": [
    "#Current situation 0 without specifying max depth the accuracy is very low however the predictions at lest differ. \n",
    "#With max depth specified the accuracy is better (30%) but the predictions are all 5 (for veery different input).\n",
    "# Can the problem be that there is no much relationship between the answerst to that question and the political orientation?"
   ]
  }
 ],
 "metadata": {
  "kernelspec": {
   "display_name": "Python 3",
   "language": "python",
   "name": "python3"
  },
  "language_info": {
   "codemirror_mode": {
    "name": "ipython",
    "version": 3
   },
   "file_extension": ".py",
   "mimetype": "text/x-python",
   "name": "python",
   "nbconvert_exporter": "python",
   "pygments_lexer": "ipython3",
   "version": "3.7.3"
  }
 },
 "nbformat": 4,
 "nbformat_minor": 4
}
