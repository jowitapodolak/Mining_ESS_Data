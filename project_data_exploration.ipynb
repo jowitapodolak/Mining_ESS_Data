{
 "cells": [
  {
   "cell_type": "code",
   "execution_count": 2,
   "metadata": {},
   "outputs": [],
   "source": [
    "import pandas as pd \n",
    "import numpy as np\n",
    "import random\n",
    "import matplotlib.pyplot as plt\n",
    "import seaborn as sns; \n",
    "import math\n",
    "dataInfo = pd.read_csv('/Users/jowi/Desktop/uni/DataMining/DataMining-FinalProject/european-social-survey/variables.csv') #metadata\n",
    "\n",
    "data = pd.read_csv('/Users/jowi/Desktop/uni/DataMining/DataMining-FinalProject/european-social-survey/ESS8e02.1_F1.csv') #data\n",
    "#pd.set_option('display.max_colwidth', -1)\n",
    "#print(data['Question']) <- see all the questions"
   ]
  },
  {
   "cell_type": "markdown",
   "metadata": {},
   "source": [
    "DATA EXPLORATION"
   ]
  },
  {
   "cell_type": "code",
   "execution_count": 3,
   "metadata": {},
   "outputs": [
    {
     "name": "stdout",
     "output_type": "stream",
     "text": [
      "        name  essround  edition    proddate  idno cntry  nwspol  netusoft  \\\n",
      "0  ESS8e02_1         8      2.1  01.12.2018     1    AT     120         4   \n",
      "1  ESS8e02_1         8      2.1  01.12.2018     2    AT     120         5   \n",
      "2  ESS8e02_1         8      2.1  01.12.2018     4    AT      30         2   \n",
      "3  ESS8e02_1         8      2.1  01.12.2018     6    AT      30         5   \n",
      "4  ESS8e02_1         8      2.1  01.12.2018    10    AT      30         5   \n",
      "5  ESS8e02_1         8      2.1  01.12.2018    11    AT      60         5   \n",
      "6  ESS8e02_1         8      2.1  01.12.2018    12    AT      15         2   \n",
      "7  ESS8e02_1         8      2.1  01.12.2018    13    AT      45         4   \n",
      "8  ESS8e02_1         8      2.1  01.12.2018    14    AT      10         5   \n",
      "9  ESS8e02_1         8      2.1  01.12.2018    15    AT      60         4   \n",
      "\n",
      "   netustm  ppltrst  ...  inwsmm  inwdde  inwmme  inwyye  inwehh  inwemm  \\\n",
      "0      180        8  ...      37       5      12    2016       8      33   \n",
      "1      120        6  ...      39      25      11    2016      11      10   \n",
      "2     6666        5  ...      17      22      11    2016      18       0   \n",
      "3      120        6  ...       9      11      10    2016      19      59   \n",
      "4      180        5  ...      31       1      12    2016      11      49   \n",
      "5      120        3  ...       2      30      11    2016      17       6   \n",
      "6     6666        7  ...      27      10      10    2016      18      30   \n",
      "7       30        7  ...      47      18      11    2016      15      30   \n",
      "8      120        9  ...       6      30       9    2016      21      12   \n",
      "9      120        5  ...      33      24      11    2016      12      53   \n",
      "\n",
      "   inwtm   dweight   pspwght   pweight  \n",
      "0   50.0  0.611677  1.178496  0.370393  \n",
      "1   86.0  1.223354  0.899472  0.370393  \n",
      "2   38.0  0.389058  0.315753  0.370393  \n",
      "3   46.0  0.642594  0.472467  0.370393  \n",
      "4   70.0  3.432402  2.246706  0.370393  \n",
      "5   59.0  1.180579  1.011379  0.370393  \n",
      "6   58.0  1.273422  1.838030  0.370393  \n",
      "7   38.0  2.164050  1.202802  0.370393  \n",
      "8   58.0  0.413119  0.320831  0.370393  \n",
      "9   77.0  1.784959  0.997574  0.370393  \n",
      "\n",
      "[10 rows x 534 columns]\n"
     ]
    }
   ],
   "source": [
    "print(data.head(10)) \n"
   ]
  },
  {
   "cell_type": "code",
   "execution_count": 4,
   "metadata": {},
   "outputs": [],
   "source": [
    "countries = data[['idno','cntry']].groupby('cntry')\n",
    "#After this operation I get a dataframe wiht idno as a column name anc=d cntry as INDEX"
   ]
  },
  {
   "cell_type": "code",
   "execution_count": 5,
   "metadata": {},
   "outputs": [
    {
     "name": "stdout",
     "output_type": "stream",
     "text": [
      "       idno\n",
      "cntry      \n",
      "AT     2010\n",
      "BE     1766\n",
      "CH     1525\n",
      "CZ     2269\n",
      "DE     2852\n",
      "EE     2019\n",
      "ES     1958\n",
      "FI     1925\n",
      "FR     2070\n",
      "GB     1959\n",
      "HU     1614\n",
      "IE     2757\n",
      "IL     2557\n",
      "IS      880\n",
      "IT     2626\n",
      "LT     2122\n",
      "NL     1681\n",
      "NO     1545\n",
      "PL     1694\n",
      "PT     1270\n",
      "RU     2430\n",
      "SE     1551\n",
      "SI     1307\n"
     ]
    }
   ],
   "source": [
    "peoplePerCountry = countries.count() #how many people from each country\n",
    "print(peoplePerCountry)"
   ]
  },
  {
   "cell_type": "code",
   "execution_count": 6,
   "metadata": {},
   "outputs": [
    {
     "data": {
      "text/plain": [
       "<matplotlib.axes._subplots.AxesSubplot at 0x1a16c56e80>"
      ]
     },
     "execution_count": 6,
     "metadata": {},
     "output_type": "execute_result"
    },
    {
     "data": {
      "image/png": "[encoded data removed]",
      "text/plain": [
       "<Figure size 720x432 with 1 Axes>"
      ]
     },
     "metadata": {
      "needs_background": "light"
     },
     "output_type": "display_data"
    }
   ],
   "source": [
    "peoplePerCountry.plot.bar(rot=0, fontsize=8, width=0.9, figsize=(10,6))"
   ]
  },
  {
   "cell_type": "code",
   "execution_count": 7,
   "metadata": {},
   "outputs": [
    {
     "data": {
      "text/plain": [
       "44387"
      ]
     },
     "execution_count": 7,
     "metadata": {},
     "output_type": "execute_result"
    }
   ],
   "source": [
    "# in total: \n",
    "peoplePerCountry['idno'].sum() #44387 people took participation in the survey"
   ]
  },
  {
   "cell_type": "code",
   "execution_count": 8,
   "metadata": {},
   "outputs": [],
   "source": [
    "# derive germany and poland:\n",
    "dataPL = data[ data['cntry'] == 'PL']\n",
    "dataGE = data[ data['cntry'] == 'GE']"
   ]
  },
  {
   "cell_type": "code",
   "execution_count": 9,
   "metadata": {},
   "outputs": [],
   "source": [
    "#we choose our label to be column = that asks whether a person is defining themselves as right or left wing:\n",
    "# column - lrscale - discrete values from 0 to 10 (ten meaning right) \n",
    "# only take into consideration 1 to 9 - the rest skew the data (10 Better place to live,77 Refusal,88 Don't know, 99 NA)\n",
    "#OR  - take mean which should be around 5:\n",
    "\n",
    "#data['happy'] = data['happy'].replace([77,88,99], 5, inplace=True) <- not working, dunno how to do it\n",
    "#print(data[['happy','cntry']])\n",
    "happiness = data[['happy','cntry']].groupby('cntry')\n",
    "HappinessPerCountry = happiness.mean() \n"
   ]
  },
  {
   "cell_type": "code",
   "execution_count": 10,
   "metadata": {},
   "outputs": [
    {
     "name": "stdout",
     "output_type": "stream",
     "text": [
      "          happy\n",
      "cntry          \n",
      "AT     7.884577\n",
      "BE     7.792752\n",
      "CH     8.280000\n",
      "CZ     7.068312\n",
      "DE     7.833100\n",
      "EE     7.437841\n",
      "ES     7.940756\n",
      "FI     8.269091\n",
      "FR     7.286473\n",
      "GB     7.671771\n",
      "HU     6.989467\n",
      "IE     7.535727\n",
      "IL     8.492374\n",
      "IS     8.315909\n",
      "IT     7.474105\n",
      "LT     7.913761\n",
      "NL     8.009518\n",
      "NO     8.157282\n",
      "PL     9.640496\n",
      "PT     7.479528\n",
      "RU     7.378601\n",
      "SE     8.292070\n",
      "SI     7.758225\n"
     ]
    }
   ],
   "source": [
    "print(HappinessPerCountry)"
   ]
  },
  {
   "cell_type": "code",
   "execution_count": 11,
   "metadata": {},
   "outputs": [],
   "source": [
    "# Polish are the happiest? dafuq?"
   ]
  },
  {
   "cell_type": "code",
   "execution_count": 12,
   "metadata": {},
   "outputs": [
    {
     "name": "stdout",
     "output_type": "stream",
     "text": [
      "        atchctr\n",
      "cntry          \n",
      "AT     8.107463\n",
      "BE     6.638165\n",
      "CH     8.041967\n",
      "CZ     7.955046\n",
      "DE     7.636746\n",
      "EE     8.176325\n",
      "ES     8.245148\n",
      "FI     8.638961\n",
      "FR     8.185990\n",
      "GB     7.352731\n",
      "HU     8.656134\n",
      "IE     7.958651\n",
      "IL     8.935862\n",
      "IS     8.406818\n",
      "IT     8.293602\n",
      "LT     9.368992\n",
      "NL     7.281975\n",
      "NO     8.369579\n",
      "PL     8.961039\n",
      "PT     8.762205\n",
      "RU     8.659671\n",
      "SE     8.298517\n",
      "SI     7.820199\n"
     ]
    }
   ],
   "source": [
    "attatchmentToCountry = data[['atchctr','cntry']].groupby('cntry')\n",
    "print(attatchmentToCountry.mean())\n"
   ]
  },
  {
   "cell_type": "markdown",
   "metadata": {},
   "source": [
    "DATA CLEANING - TO BE DONE"
   ]
  },
  {
   "cell_type": "markdown",
   "metadata": {},
   "source": [
    "PDA AND K-MEANS CLUSTERING"
   ]
  },
  {
   "cell_type": "code",
   "execution_count": 13,
   "metadata": {},
   "outputs": [],
   "source": [
    "from sklearn.cluster import KMeans\n",
    "from mpl_toolkits.mplot3d import Axes3D \n",
    "from sklearn.decomposition import PCA\n",
    "from matplotlib import colors as mcolors \n",
    "import math "
   ]
  },
  {
   "cell_type": "code",
   "execution_count": 14,
   "metadata": {},
   "outputs": [],
   "source": [
    "df_country = data.loc[data['cntry'] == 'DE']\n",
    "\n",
    "df_sliced = df_country[['ipbhprp','iprspot','ipcrtiv','imprich' ]]\n",
    "#df1 = df_sliced.loc[df_sliced['cntry'] == 'DE']\n",
    "#print(df_sliced.head())"
   ]
  },
  {
   "cell_type": "code",
   "execution_count": 15,
   "metadata": {},
   "outputs": [
    {
     "name": "stdout",
     "output_type": "stream",
     "text": [
      "[1 2 0 ... 0 0 0]\n",
      "          0         1         2\n",
      "0  2.316974  1.074184 -1.469232\n",
      "1  1.477354  0.519795 -0.064768\n",
      "2 -0.379326 -1.420169  1.077044\n",
      "3 -0.958985 -0.868882  0.589019\n",
      "4  0.026461 -0.136552  0.736698\n"
     ]
    },
    {
     "data": {
      "image/png": "[encoded data removed]",
      "text/plain": [
       "<Figure size 432x288 with 1 Axes>"
      ]
     },
     "metadata": {
      "needs_background": "light"
     },
     "output_type": "display_data"
    }
   ],
   "source": [
    "#KMEANS\n",
    "clusters = 3\n",
    "kmeans = KMeans(n_clusters = clusters) \n",
    "kmeans.fit(df_sliced) \n",
    "print(kmeans.labels_)\n",
    "\n",
    "pca = PCA(3) \n",
    "pca.fit(df_sliced) \n",
    "  \n",
    "pca_data = pd.DataFrame(pca.transform(df_sliced)) \n",
    "  \n",
    "print(pca_data.head())\n",
    "\n",
    "\n",
    "\n",
    "# Generate different colors \n",
    "colors = list(zip(*sorted(( \n",
    "                    tuple(mcolors.rgb_to_hsv( \n",
    "                          mcolors.to_rgba(color)[:3])), name) \n",
    "                     for name, color in dict( \n",
    "                            mcolors.BASE_COLORS, **mcolors.CSS4_COLORS \n",
    "                                                      ).items())))[1] \n",
    "\n",
    "skips = math.floor(len(colors[5 : -5])/clusters) \n",
    "cluster_colors = colors[5 : -5 : skips]\n",
    "\n",
    "#####\n",
    "\n",
    "fig = plt.figure() \n",
    "ax = fig.add_subplot(111, projection = '3d') \n",
    "ax.scatter(pca_data[0], pca_data[1], pca_data[2],  \n",
    "           c = list(map(lambda label : cluster_colors[label], \n",
    "                                            kmeans.labels_))) \n",
    "   \n",
    "str_labels = list(map(lambda label:'% s' % label, kmeans.labels_)) \n",
    "   \n",
    "list(map(lambda data1, data2, data3, str_label: \n",
    "        ax.text(data1, data2, data3, s = str_label, size = 1, \n",
    "        zorder = 20, color = 'k'), pca_data[0], pca_data[1], \n",
    "        pca_data[2], str_labels)) \n",
    "   \n",
    "plt.show()\n",
    "\n",
    "#Nice but k-means plot is not very readable for now.\n"
   ]
  },
  {
   "cell_type": "markdown",
   "metadata": {},
   "source": [
    "SUPERVIDED LEARNING - DECISION TREE\n",
    "source: https://www.datacamp.com/community/tutorials/decision-tree-classification-python"
   ]
  },
  {
   "cell_type": "markdown",
   "metadata": {},
   "source": [
    "Attribute selection measures - a heuristic for selecting the splitting criterion that partition data into the best possible manner."
   ]
  },
  {
   "cell_type": "code",
   "execution_count": 41,
   "metadata": {},
   "outputs": [],
   "source": [
    "# Load libraries\n",
    "from sklearn.tree import DecisionTreeClassifier # Import Decision Tree Classifier\n",
    "from sklearn.model_selection import train_test_split # Import train_test_split function\n",
    "from sklearn import metrics #Import scikit-learn metrics module for accuracy calculation"
   ]
  },
  {
   "cell_type": "code",
   "execution_count": 42,
   "metadata": {},
   "outputs": [],
   "source": [
    "# group by groups to see which one is the best to create a decision tree (which one is the best indicator our label):\n",
    "#List of columns for group 'Group Politics'\n",
    "#THIS GROUP IS COUNTRY SPECIFIC - NOT APPLICABLE FOR THE WHOLE DATASET\n",
    "dataPolitics = dataInfo.loc[dataInfo['Group']=='Group Politics']\n",
    "namesListP = dataPolitics['Name'].tolist()\n",
    "#print(namesListP)\n",
    "namesListP.remove('lrscale')\n",
    "#print(namesListP)\n",
    "\n",
    "# List of columns for group 'Group Climate change' \n",
    "dataClimateChange = dataInfo.loc[dataInfo['Group']=='Group Climate change']\n",
    "namesListC = dataClimateChange['Name'].tolist() \n",
    "#print(namesListC)\n",
    "\n",
    "# List of columns for group 'Group Subjective well-being, social exclusion, religion, national and ethnic identity' \n",
    "dataWellBeing = dataInfo.loc[dataInfo['Group']=='Group Subjective well-being, social exclusion, religion, national and ethnic identity']\n",
    "namesListW = dataWellBeing['Name'].tolist() \n",
    "#print(namesListW)\n",
    "\n",
    "# List of columns for group 'Group Welfare attitudes' \n",
    "dataWelfare = dataInfo.loc[dataInfo['Group']=='Group Climate change']\n",
    "namesListWelfare = dataWelfare['Name'].tolist() \n",
    "#print(namesListWelfare)\n",
    "\n",
    "#list of columns that are not country specific:\n",
    "dataGeneralQuestions = dataInfo.loc[dataInfo['Country_specific']=='no']\n",
    "dataGeneralQuestionsList = dataGeneralQuestions['Name'].tolist()\n",
    "#print(dataGeneralQuestionsList)\n",
    "\n"
   ]
  },
  {
   "cell_type": "code",
   "execution_count": 46,
   "metadata": {},
   "outputs": [],
   "source": [
    "\"\"\"\n",
    "#split dataset in features and target variable\n",
    "#for taking all the features from table - not working rn :\n",
    "#I want to select all columns besides the target one - 'lrscale'\n",
    "data_no_label = data.drop('lrscale', axis=1)\n",
    "#feature_cols = list(data_no_label.columns) # a list of ALL columns names, besides target lrscale)\n",
    "#print(feature_cols)\n",
    "\n",
    "#Take features just from social trust group \n",
    "feature_cols = ['nwspol','netusoft','netustm','ppltrst','pplfair','pplhlp']\n",
    "#feature_cols = namesListC + namesListWelfare + namesListW \n",
    "\n",
    "#3rd approach - take only columns that are not country specific \n",
    "#feature_cols = dataGeneralQuestionsList\n",
    "x = data[feature_cols]\n",
    "y = data.lrscale # Target variable\n",
    "\"\"\"\n"
   ]
  },
  {
   "cell_type": "code",
   "execution_count": 73,
   "metadata": {},
   "outputs": [],
   "source": [
    "#Just for one country (PL) \n",
    "data_no_label = dataPL.drop('lrscale', axis=1)\n",
    "#Take features just from social trust group \n",
    "feature_cols = ['nwspol','netusoft','netustm','ppltrst','pplfair','pplhlp']\n",
    "x = data[feature_cols]\n",
    "y = data.lrscale # Target variable"
   ]
  },
  {
   "cell_type": "code",
   "execution_count": 74,
   "metadata": {},
   "outputs": [],
   "source": [
    "# splitting into training and test set: \n",
    "x_train, x_test, y_train, y_test = train_test_split(x, y, test_size=0.1, random_state=1) # 90% training and 10% test"
   ]
  },
  {
   "cell_type": "code",
   "execution_count": 99,
   "metadata": {},
   "outputs": [],
   "source": [
    "#BULDING A MODEL:\n",
    "# Create Decision Tree classifer object\n",
    "clf = DecisionTreeClassifier(max_depth = 7) # by defaul't uses gini index for measuring the quality of the split\n",
    "\n",
    "# Train Decision Tree Classifer\n",
    "clf = clf.fit(x_train,y_train) #fit - Build a decision tree classifier from the training set (X, y).\n",
    "\n",
    "#Predict the response for test dataset\n",
    "#print(x_test)\n",
    "y_pred = clf.predict(x_test)"
   ]
  },
  {
   "cell_type": "code",
   "execution_count": 100,
   "metadata": {},
   "outputs": [
    {
     "name": "stdout",
     "output_type": "stream",
     "text": [
      "Accuracy: 0.27506195088984003\n"
     ]
    }
   ],
   "source": [
    "print(\"Accuracy:\",metrics.accuracy_score(y_test, y_pred))\n"
   ]
  },
  {
   "cell_type": "code",
   "execution_count": 101,
   "metadata": {},
   "outputs": [],
   "source": [
    "# = only 15% of correct predictions\n"
   ]
  },
  {
   "cell_type": "markdown",
   "metadata": {},
   "source": [
    "PLOT a TREE"
   ]
  },
  {
   "cell_type": "code",
   "execution_count": 102,
   "metadata": {},
   "outputs": [
    {
     "data": {
      "text/plain": [
       "[Text(178.22506188118814, 203.85, 'X[3] <= 5.5\\nentropy = 0.868\\nsamples = 39948\\nvalue = [1318, 760, 1887, 3360, 3405, 11177, 3693, 3841, 2951\\n916, 1420, 1327, 3883, 10]'),\n",
       " Text(94.57685643564358, 176.67000000000002, 'X[5] <= 1.5\\nentropy = 0.858\\nsamples = 20677\\nvalue = [762, 375, 881, 1498, 1545, 6289, 1656, 1707, 1410\\n429, 848, 866, 2404, 7]'),\n",
       " Text(49.10123762376238, 149.49, 'X[4] <= 0.5\\nentropy = 0.869\\nsamples = 2203\\nvalue = [156, 49, 75, 129, 96, 562, 91, 130, 109, 46, 181\\n181, 394, 4]'),\n",
       " Text(25.27574257425743, 122.31, 'X[0] <= 12.5\\nentropy = 0.866\\nsamples = 547\\nvalue = [61, 9, 12, 26, 21, 104, 10, 27, 16, 10, 56, 71\\n122, 2]'),\n",
       " Text(13.25940594059406, 95.13, 'X[2] <= 135.0\\nentropy = 0.807\\nsamples = 120\\nvalue = [10, 1, 3, 2, 5, 14, 0, 6, 3, 1, 6, 26, 41, 2]'),\n",
       " Text(6.62970297029703, 67.94999999999999, 'X[3] <= 0.5\\nentropy = 0.82\\nsamples = 31\\nvalue = [5, 0, 1, 0, 2, 3, 0, 4, 0, 0, 0, 9, 6, 1]'),\n",
       " Text(3.314851485148515, 40.77000000000001, 'X[0] <= 7.5\\nentropy = 0.76\\nsamples = 20\\nvalue = [2, 0, 0, 0, 1, 1, 0, 2, 0, 0, 0, 7, 6, 1]'),\n",
       " Text(1.6574257425742576, 13.590000000000003, 'entropy = 0.719\\nsamples = 16\\nvalue = [2, 0, 0, 0, 1, 1, 0, 1, 0, 0, 0, 7, 4, 0]'),\n",
       " Text(4.972277227722772, 13.590000000000003, 'entropy = 0.625\\nsamples = 4\\nvalue = [0, 0, 0, 0, 0, 0, 0, 1, 0, 0, 0, 0, 2, 1]'),\n",
       " Text(9.944554455445545, 40.77000000000001, 'X[3] <= 4.5\\nentropy = 0.81\\nsamples = 11\\nvalue = [3, 0, 1, 0, 1, 2, 0, 2, 0, 0, 0, 2, 0, 0]'),\n",
       " Text(8.287128712871288, 13.590000000000003, 'entropy = 0.611\\nsamples = 6\\nvalue = [3, 0, 1, 0, 0, 0, 0, 2, 0, 0, 0, 0, 0, 0]'),\n",
       " Text(11.601980198019803, 13.590000000000003, 'entropy = 0.64\\nsamples = 5\\nvalue = [0, 0, 0, 0, 1, 2, 0, 0, 0, 0, 0, 2, 0, 0]'),\n",
       " Text(19.88910891089109, 67.94999999999999, 'X[2] <= 487.5\\nentropy = 0.782\\nsamples = 89\\nvalue = [5, 1, 2, 2, 3, 11, 0, 2, 3, 1, 6, 17, 35, 1]'),\n",
       " Text(16.574257425742577, 40.77000000000001, 'X[3] <= 0.5\\nentropy = 0.51\\nsamples = 19\\nvalue = [0, 0, 0, 0, 0, 2, 0, 0, 1, 1, 1, 1, 13, 0]'),\n",
       " Text(14.916831683168319, 13.590000000000003, 'entropy = 0.255\\nsamples = 14\\nvalue = [0, 0, 0, 0, 0, 1, 0, 0, 0, 0, 1, 0, 12, 0]'),\n",
       " Text(18.231683168316835, 13.590000000000003, 'entropy = 0.8\\nsamples = 5\\nvalue = [0, 0, 0, 0, 0, 1, 0, 0, 1, 1, 0, 1, 1, 0]'),\n",
       " Text(23.203960396039605, 40.77000000000001, 'X[1] <= 3.5\\nentropy = 0.817\\nsamples = 70\\nvalue = [5, 1, 2, 2, 3, 9, 0, 2, 2, 0, 5, 16, 22, 1]'),\n",
       " Text(21.546534653465347, 13.590000000000003, 'entropy = 0.813\\nsamples = 61\\nvalue = [5, 1, 1, 2, 3, 8, 0, 1, 2, 0, 5, 11, 21, 1]'),\n",
       " Text(24.861386138613863, 13.590000000000003, 'entropy = 0.642\\nsamples = 9\\nvalue = [0, 0, 1, 0, 0, 1, 0, 1, 0, 0, 0, 5, 1, 0]'),\n",
       " Text(37.29207920792079, 95.13, 'X[0] <= 783.5\\nentropy = 0.871\\nsamples = 427\\nvalue = [51, 8, 9, 24, 16, 90, 10, 21, 13, 9, 50, 45\\n81, 0]'),\n",
       " Text(33.14851485148515, 67.94999999999999, 'X[2] <= 165.0\\nentropy = 0.871\\nsamples = 410\\nvalue = [51, 8, 9, 24, 14, 90, 9, 21, 13, 9, 50, 39, 73\\n0]'),\n",
       " Text(29.833663366336637, 40.77000000000001, 'X[3] <= 3.5\\nentropy = 0.852\\nsamples = 91\\nvalue = [6, 1, 2, 6, 2, 28, 4, 7, 5, 5, 13, 5, 7, 0]'),\n",
       " Text(28.17623762376238, 13.590000000000003, 'entropy = 0.849\\nsamples = 87\\nvalue = [6, 1, 2, 5, 2, 27, 2, 7, 5, 5, 13, 5, 7, 0]'),\n",
       " Text(31.491089108910895, 13.590000000000003, 'entropy = 0.625\\nsamples = 4\\nvalue = [0, 0, 0, 1, 0, 1, 2, 0, 0, 0, 0, 0, 0, 0]'),\n",
       " Text(36.46336633663367, 40.77000000000001, 'X[0] <= 50.0\\nentropy = 0.866\\nsamples = 319\\nvalue = [45, 7, 7, 18, 12, 62, 5, 14, 8, 4, 37, 34, 66\\n0]'),\n",
       " Text(34.80594059405941, 13.590000000000003, 'entropy = 0.833\\nsamples = 116\\nvalue = [15, 2, 4, 5, 4, 17, 1, 5, 3, 0, 12, 11, 37\\n0]'),\n",
       " Text(38.120792079207924, 13.590000000000003, 'entropy = 0.871\\nsamples = 203\\nvalue = [30, 5, 3, 13, 8, 45, 4, 9, 5, 4, 25, 23, 29\\n0]'),\n",
       " Text(41.43564356435644, 67.94999999999999, 'X[2] <= 130.0\\nentropy = 0.637\\nsamples = 17\\nvalue = [0, 0, 0, 0, 2, 0, 1, 0, 0, 0, 0, 6, 8, 0]'),\n",
       " Text(39.77821782178218, 40.77000000000001, 'entropy = 0.0\\nsamples = 1\\nvalue = [0, 0, 0, 0, 0, 0, 1, 0, 0, 0, 0, 0, 0, 0]'),\n",
       " Text(43.093069306930694, 40.77000000000001, 'X[2] <= 390.0\\nentropy = 0.594\\nsamples = 16\\nvalue = [0, 0, 0, 0, 2, 0, 0, 0, 0, 0, 0, 6, 8, 0]'),\n",
       " Text(41.43564356435644, 13.590000000000003, 'entropy = 0.0\\nsamples = 3\\nvalue = [0, 0, 0, 0, 0, 0, 0, 0, 0, 0, 0, 0, 3, 0]'),\n",
       " Text(44.750495049504956, 13.590000000000003, 'entropy = 0.615\\nsamples = 13\\nvalue = [0, 0, 0, 0, 2, 0, 0, 0, 0, 0, 0, 6, 5, 0]'),\n",
       " Text(72.92673267326734, 122.31, 'X[2] <= 555.0\\nentropy = 0.865\\nsamples = 1656\\nvalue = [95, 40, 63, 103, 75, 458, 81, 103, 93, 36, 125\\n110, 272, 2]'),\n",
       " Text(59.667326732673274, 95.13, 'X[0] <= 869.5\\nentropy = 0.856\\nsamples = 809\\nvalue = [38, 19, 37, 47, 36, 251, 36, 62, 43, 25, 63, 48\\n103, 1]'),\n",
       " Text(53.03762376237624, 67.94999999999999, 'X[0] <= 72.5\\nentropy = 0.854\\nsamples = 785\\nvalue = [37, 19, 36, 46, 36, 248, 36, 59, 41, 25, 61, 41\\n99, 1]'),\n",
       " Text(49.722772277227726, 40.77000000000001, 'X[0] <= 1.5\\nentropy = 0.858\\nsamples = 595\\nvalue = [25, 14, 27, 35, 27, 178, 29, 46, 33, 20, 36, 34\\n90, 1]'),\n",
       " Text(48.06534653465347, 13.590000000000003, 'entropy = 0.832\\nsamples = 96\\nvalue = [6, 2, 1, 7, 3, 27, 2, 4, 6, 1, 8, 5, 24, 0]'),\n",
       " Text(51.38019801980199, 13.590000000000003, 'entropy = 0.86\\nsamples = 499\\nvalue = [19, 12, 26, 28, 24, 151, 27, 42, 27, 19, 28, 29\\n66, 1]'),\n",
       " Text(56.35247524752476, 40.77000000000001, 'X[0] <= 87.5\\nentropy = 0.822\\nsamples = 190\\nvalue = [12, 5, 9, 11, 9, 70, 7, 13, 8, 5, 25, 7, 9\\n0]'),\n",
       " Text(54.6950495049505, 13.590000000000003, 'entropy = 0.0\\nsamples = 8\\nvalue = [0, 0, 0, 0, 0, 8, 0, 0, 0, 0, 0, 0, 0, 0]'),\n",
       " Text(58.00990099009901, 13.590000000000003, 'entropy = 0.838\\nsamples = 182\\nvalue = [12, 5, 9, 11, 9, 62, 7, 13, 8, 5, 25, 7, 9\\n0]'),\n",
       " Text(66.2970297029703, 67.94999999999999, 'X[3] <= 2.5\\nentropy = 0.837\\nsamples = 24\\nvalue = [1, 0, 1, 1, 0, 3, 0, 3, 2, 0, 2, 7, 4, 0]'),\n",
       " Text(62.98217821782179, 40.77000000000001, 'X[0] <= 1020.5\\nentropy = 0.853\\nsamples = 15\\nvalue = [1, 0, 1, 1, 0, 3, 0, 2, 0, 0, 2, 2, 3, 0]'),\n",
       " Text(61.32475247524753, 13.590000000000003, 'entropy = 0.625\\nsamples = 4\\nvalue = [0, 0, 1, 0, 0, 0, 0, 0, 0, 0, 0, 1, 2, 0]'),\n",
       " Text(64.63960396039604, 13.590000000000003, 'entropy = 0.826\\nsamples = 11\\nvalue = [1, 0, 0, 1, 0, 3, 0, 2, 0, 0, 2, 1, 1, 0]'),\n",
       " Text(69.61188118811882, 40.77000000000001, 'X[4] <= 2.5\\nentropy = 0.617\\nsamples = 9\\nvalue = [0, 0, 0, 0, 0, 0, 0, 1, 2, 0, 0, 5, 1, 0]'),\n",
       " Text(67.95445544554455, 13.590000000000003, 'entropy = 0.0\\nsamples = 4\\nvalue = [0, 0, 0, 0, 0, 0, 0, 0, 0, 0, 0, 4, 0, 0]'),\n",
       " Text(71.26930693069308, 13.590000000000003, 'entropy = 0.72\\nsamples = 5\\nvalue = [0, 0, 0, 0, 0, 0, 0, 1, 2, 0, 0, 1, 1, 0]'),\n",
       " Text(86.18613861386139, 95.13, 'X[0] <= 730.5\\nentropy = 0.868\\nsamples = 847\\nvalue = [57, 21, 26, 56, 39, 207, 45, 41, 50, 11, 62, 62\\n169, 1]'),\n",
       " Text(79.55643564356436, 67.94999999999999, 'X[3] <= 3.5\\nentropy = 0.868\\nsamples = 816\\nvalue = [56, 20, 26, 56, 38, 203, 44, 41, 49, 10, 61, 52\\n159, 1]'),\n",
       " Text(76.24158415841585, 40.77000000000001, 'X[4] <= 49.0\\nentropy = 0.868\\nsamples = 599\\nvalue = [40, 17, 18, 37, 28, 135, 31, 26, 40, 4, 50, 42\\n131, 0]'),\n",
       " Text(74.58415841584159, 13.590000000000003, 'entropy = 0.87\\nsamples = 585\\nvalue = [40, 17, 18, 35, 27, 134, 30, 25, 40, 4, 50, 42\\n123, 0]'),\n",
       " Text(77.89900990099011, 13.590000000000003, 'entropy = 0.633\\nsamples = 14\\nvalue = [0, 0, 0, 2, 1, 1, 1, 1, 0, 0, 0, 0, 8, 0]'),\n",
       " Text(82.87128712871288, 40.77000000000001, 'X[2] <= 690.0\\nentropy = 0.853\\nsamples = 217\\nvalue = [16, 3, 8, 19, 10, 68, 13, 15, 9, 6, 11, 10, 28\\n1]'),\n",
       " Text(81.21386138613862, 13.590000000000003, 'entropy = 0.781\\nsamples = 8\\nvalue = [1, 0, 3, 0, 0, 0, 0, 1, 1, 0, 1, 0, 1, 0]'),\n",
       " Text(84.52871287128714, 13.590000000000003, 'entropy = 0.846\\nsamples = 209\\nvalue = [15, 3, 5, 19, 10, 68, 13, 14, 8, 6, 10, 10, 27\\n1]'),\n",
       " Text(92.81584158415842, 67.94999999999999, 'X[0] <= 8332.5\\nentropy = 0.768\\nsamples = 31\\nvalue = [1, 1, 0, 0, 1, 4, 1, 0, 1, 1, 1, 10, 10, 0]'),\n",
       " Text(89.50099009900991, 40.77000000000001, 'X[3] <= 3.0\\nentropy = 0.782\\nsamples = 17\\nvalue = [1, 1, 0, 0, 1, 2, 0, 0, 1, 1, 1, 7, 2, 0]'),\n",
       " Text(87.84356435643565, 13.590000000000003, 'entropy = 0.844\\nsamples = 8\\nvalue = [1, 1, 0, 0, 0, 1, 0, 0, 1, 0, 1, 1, 2, 0]'),\n",
       " Text(91.15841584158417, 13.590000000000003, 'entropy = 0.519\\nsamples = 9\\nvalue = [0, 0, 0, 0, 1, 1, 0, 0, 0, 1, 0, 6, 0, 0]'),\n",
       " Text(96.13069306930694, 40.77000000000001, 'X[0] <= 9443.5\\nentropy = 0.602\\nsamples = 14\\nvalue = [0, 0, 0, 0, 0, 2, 1, 0, 0, 0, 0, 3, 8, 0]'),\n",
       " Text(94.47326732673268, 13.590000000000003, 'entropy = 0.544\\nsamples = 13\\nvalue = [0, 0, 0, 0, 0, 2, 0, 0, 0, 0, 0, 3, 8, 0]'),\n",
       " Text(97.78811881188119, 13.590000000000003, 'entropy = 0.0\\nsamples = 1\\nvalue = [0, 0, 0, 0, 0, 0, 1, 0, 0, 0, 0, 0, 0, 0]'),\n",
       " Text(140.05247524752477, 149.49, 'X[0] <= 1.5\\nentropy = 0.855\\nsamples = 18474\\nvalue = [606, 326, 806, 1369, 1449, 5727, 1565, 1577, 1301\\n383, 667, 685, 2010, 3]'),\n",
       " Text(120.9920792079208, 122.31, 'X[5] <= 43.5\\nentropy = 0.829\\nsamples = 1272\\nvalue = [51, 20, 41, 66, 60, 398, 72, 77, 39, 23, 61, 76\\n288, 0]'),\n",
       " Text(112.70495049504952, 95.13, 'X[1] <= 1.5\\nentropy = 0.829\\nsamples = 1260\\nvalue = [51, 20, 41, 66, 60, 398, 72, 77, 39, 23, 60, 73\\n280, 0]'),\n",
       " Text(106.07524752475248, 67.94999999999999, 'X[4] <= 8.5\\nentropy = 0.838\\nsamples = 277\\nvalue = [12, 1, 10, 24, 10, 70, 14, 15, 7, 5, 12, 23\\n74, 0]'),\n",
       " Text(102.76039603960398, 40.77000000000001, 'X[5] <= 6.5\\nentropy = 0.839\\nsamples = 263\\nvalue = [11, 1, 8, 23, 9, 62, 14, 15, 7, 5, 12, 23, 73\\n0]'),\n",
       " Text(101.10297029702971, 13.590000000000003, 'entropy = 0.84\\nsamples = 214\\nvalue = [11, 1, 8, 21, 9, 43, 12, 12, 3, 4, 6, 21, 63\\n0]'),\n",
       " Text(104.41782178217822, 13.590000000000003, 'entropy = 0.777\\nsamples = 49\\nvalue = [0, 0, 0, 2, 0, 19, 2, 3, 4, 1, 6, 2, 10, 0]'),\n",
       " Text(109.390099009901, 40.77000000000001, 'X[5] <= 8.5\\nentropy = 0.633\\nsamples = 14\\nvalue = [1, 0, 2, 1, 1, 8, 0, 0, 0, 0, 0, 0, 1, 0]'),\n",
       " Text(107.73267326732675, 13.590000000000003, 'entropy = 0.219\\nsamples = 8\\nvalue = [0, 0, 0, 0, 1, 7, 0, 0, 0, 0, 0, 0, 0, 0]'),\n",
       " Text(111.04752475247525, 13.590000000000003, 'entropy = 0.778\\nsamples = 6\\nvalue = [1, 0, 2, 1, 0, 1, 0, 0, 0, 0, 0, 0, 1, 0]'),\n",
       " Text(119.33465346534655, 67.94999999999999, 'X[1] <= 2.5\\nentropy = 0.824\\nsamples = 983\\nvalue = [39, 19, 31, 42, 50, 328, 58, 62, 32, 18, 48, 50\\n206, 0]'),\n",
       " Text(116.01980198019803, 40.77000000000001, 'X[5] <= 4.5\\nentropy = 0.788\\nsamples = 73\\nvalue = [2, 1, 4, 0, 8, 30, 1, 6, 2, 3, 3, 6, 7, 0]'),\n",
       " Text(114.36237623762378, 13.590000000000003, 'entropy = 0.85\\nsamples = 32\\nvalue = [0, 1, 3, 0, 5, 8, 1, 3, 1, 0, 2, 6, 2, 0]'),\n",
       " Text(117.67722772277229, 13.590000000000003, 'entropy = 0.677\\nsamples = 41\\nvalue = [2, 0, 1, 0, 3, 22, 0, 3, 1, 3, 1, 0, 5, 0]'),\n",
       " Text(122.64950495049506, 40.77000000000001, 'X[4] <= 49.0\\nentropy = 0.824\\nsamples = 910\\nvalue = [37, 18, 27, 42, 42, 298, 57, 56, 30, 15, 45, 44\\n199, 0]'),\n",
       " Text(120.9920792079208, 13.590000000000003, 'entropy = 0.824\\nsamples = 905\\nvalue = [37, 18, 27, 42, 42, 298, 57, 56, 30, 15, 44, 44\\n195, 0]'),\n",
       " Text(124.30693069306932, 13.590000000000003, 'entropy = 0.32\\nsamples = 5\\nvalue = [0, 0, 0, 0, 0, 0, 0, 0, 0, 0, 1, 0, 4, 0]'),\n",
       " Text(129.2792079207921, 95.13, 'X[2] <= 70.0\\nentropy = 0.486\\nsamples = 12\\nvalue = [0, 0, 0, 0, 0, 0, 0, 0, 0, 0, 1, 3, 8, 0]'),\n",
       " Text(127.62178217821783, 67.94999999999999, 'entropy = 0.0\\nsamples = 1\\nvalue = [0, 0, 0, 0, 0, 0, 0, 0, 0, 0, 0, 1, 0, 0]'),\n",
       " Text(130.93663366336634, 67.94999999999999, 'X[2] <= 7777.0\\nentropy = 0.43\\nsamples = 11\\nvalue = [0, 0, 0, 0, 0, 0, 0, 0, 0, 0, 1, 2, 8, 0]'),\n",
       " Text(129.2792079207921, 40.77000000000001, 'X[4] <= 1.0\\nentropy = 0.34\\nsamples = 10\\nvalue = [0, 0, 0, 0, 0, 0, 0, 0, 0, 0, 1, 1, 8, 0]'),\n",
       " Text(127.62178217821783, 13.590000000000003, 'entropy = 0.667\\nsamples = 3\\nvalue = [0, 0, 0, 0, 0, 0, 0, 0, 0, 0, 1, 1, 1, 0]'),\n",
       " Text(130.93663366336634, 13.590000000000003, 'entropy = 0.0\\nsamples = 7\\nvalue = [0, 0, 0, 0, 0, 0, 0, 0, 0, 0, 0, 0, 7, 0]'),\n",
       " Text(132.5940594059406, 40.77000000000001, 'entropy = 0.0\\nsamples = 1\\nvalue = [0, 0, 0, 0, 0, 0, 0, 0, 0, 0, 0, 1, 0, 0]'),\n",
       " Text(159.1128712871287, 122.31, 'X[0] <= 568.0\\nentropy = 0.855\\nsamples = 17202\\nvalue = [555, 306, 765, 1303, 1389, 5329, 1493, 1500, 1262\\n360, 606, 609, 1722, 3]'),\n",
       " Text(145.85346534653468, 95.13, 'X[2] <= 4053.0\\nentropy = 0.853\\nsamples = 16558\\nvalue = [545, 287, 732, 1269, 1344, 5194, 1440, 1455, 1230\\n346, 580, 526, 1607, 3]'),\n",
       " Text(139.22376237623763, 67.94999999999999, 'X[0] <= 31.5\\nentropy = 0.847\\nsamples = 10590\\nvalue = [312, 175, 475, 865, 899, 3429, 967, 970, 799, 228\\n344, 280, 847, 0]'),\n",
       " Text(135.9089108910891, 40.77000000000001, 'X[5] <= 4.5\\nentropy = 0.831\\nsamples = 4337\\nvalue = [95, 53, 176, 352, 354, 1513, 366, 365, 281, 84\\n123, 116, 459, 0]'),\n",
       " Text(134.25148514851486, 13.590000000000003, 'entropy = 0.845\\nsamples = 1903\\nvalue = [39, 20, 66, 182, 159, 611, 167, 183, 121, 38, 49\\n70, 198, 0]'),\n",
       " Text(137.56633663366338, 13.590000000000003, 'entropy = 0.819\\nsamples = 2434\\nvalue = [56, 33, 110, 170, 195, 902, 199, 182, 160, 46, 74\\n46, 261, 0]'),\n",
       " Text(142.53861386138615, 40.77000000000001, 'X[3] <= 2.5\\nentropy = 0.856\\nsamples = 6253\\nvalue = [217, 122, 299, 513, 545, 1916, 601, 605, 518, 144\\n221, 164, 388, 0]'),\n",
       " Text(140.8811881188119, 13.590000000000003, 'entropy = 0.863\\nsamples = 1122\\nvalue = [60, 23, 53, 83, 74, 337, 71, 96, 92, 31, 70, 36\\n96, 0]'),\n",
       " Text(144.1960396039604, 13.590000000000003, 'entropy = 0.854\\nsamples = 5131\\nvalue = [157, 99, 246, 430, 471, 1579, 530, 509, 426, 113\\n151, 128, 292, 0]'),\n",
       " Text(152.4831683168317, 67.94999999999999, 'X[5] <= 4.5\\nentropy = 0.861\\nsamples = 5968\\nvalue = [233, 112, 257, 404, 445, 1765, 473, 485, 431, 118\\n236, 246, 760, 3]'),\n",
       " Text(149.16831683168317, 40.77000000000001, 'X[0] <= 4.0\\nentropy = 0.876\\nsamples = 2584\\nvalue = [99, 68, 130, 213, 199, 671, 191, 196, 185, 58, 97\\n121, 353, 3]'),\n",
       " Text(147.51089108910892, 13.590000000000003, 'entropy = 0.32\\nsamples = 5\\nvalue = [0, 0, 0, 0, 4, 0, 1, 0, 0, 0, 0, 0, 0, 0]'),\n",
       " Text(150.82574257425745, 13.590000000000003, 'entropy = 0.876\\nsamples = 2579\\nvalue = [99, 68, 130, 213, 195, 671, 190, 196, 185, 58, 97\\n121, 353, 3]'),\n",
       " Text(155.79801980198022, 40.77000000000001, 'X[5] <= 5.5\\nentropy = 0.847\\nsamples = 3384\\nvalue = [134, 44, 127, 191, 246, 1094, 282, 289, 246, 60\\n139, 125, 407, 0]'),\n",
       " Text(154.14059405940594, 13.590000000000003, 'entropy = 0.831\\nsamples = 1517\\nvalue = [60, 16, 62, 80, 105, 537, 106, 121, 102, 29, 63\\n64, 172, 0]'),\n",
       " Text(157.45544554455446, 13.590000000000003, 'entropy = 0.857\\nsamples = 1867\\nvalue = [74, 28, 65, 111, 141, 557, 176, 168, 144, 31, 76\\n61, 235, 0]'),\n",
       " Text(172.37227722772278, 95.13, 'X[3] <= 4.5\\nentropy = 0.88\\nsamples = 644\\nvalue = [10, 19, 33, 34, 45, 135, 53, 45, 32, 14, 26, 83\\n115, 0]'),\n",
       " Text(165.74257425742576, 67.94999999999999, 'X[0] <= 1156.5\\nentropy = 0.892\\nsamples = 394\\nvalue = [7, 15, 21, 24, 29, 62, 28, 26, 25, 11, 17, 60\\n69, 0]'),\n",
       " Text(162.42772277227724, 40.77000000000001, 'X[1] <= 2.5\\nentropy = 0.904\\nsamples = 228\\nvalue = [5, 11, 17, 19, 20, 35, 18, 19, 14, 6, 9, 33\\n22, 0]'),\n",
       " Text(160.770297029703, 13.590000000000003, 'entropy = 0.88\\nsamples = 83\\nvalue = [2, 7, 6, 9, 9, 5, 5, 5, 2, 2, 4, 21, 6, 0]'),\n",
       " Text(164.0851485148515, 13.590000000000003, 'entropy = 0.895\\nsamples = 145\\nvalue = [3, 4, 11, 10, 11, 30, 13, 14, 12, 4, 5, 12, 16\\n0]'),\n",
       " Text(169.05742574257428, 40.77000000000001, 'X[5] <= 3.5\\nentropy = 0.849\\nsamples = 166\\nvalue = [2, 4, 4, 5, 9, 27, 10, 7, 11, 5, 8, 27, 47\\n0]'),\n",
       " Text(167.4, 13.590000000000003, 'entropy = 0.793\\nsamples = 63\\nvalue = [1, 1, 3, 1, 3, 10, 4, 2, 5, 1, 2, 5, 25, 0]'),\n",
       " Text(170.71485148514853, 13.590000000000003, 'entropy = 0.862\\nsamples = 103\\nvalue = [1, 3, 1, 4, 6, 17, 6, 5, 6, 4, 6, 22, 22, 0]'),\n",
       " Text(179.00198019801982, 67.94999999999999, 'X[0] <= 599.5\\nentropy = 0.846\\nsamples = 250\\nvalue = [3, 4, 12, 10, 16, 73, 25, 19, 7, 3, 9, 23, 46\\n0]'),\n",
       " Text(175.6871287128713, 40.77000000000001, 'X[5] <= 4.5\\nentropy = 0.667\\nsamples = 6\\nvalue = [0, 0, 0, 0, 2, 0, 0, 0, 2, 0, 0, 0, 2, 0]'),\n",
       " Text(174.02970297029705, 13.590000000000003, 'entropy = 0.0\\nsamples = 1\\nvalue = [0, 0, 0, 0, 1, 0, 0, 0, 0, 0, 0, 0, 0, 0]'),\n",
       " Text(177.34455445544555, 13.590000000000003, 'entropy = 0.64\\nsamples = 5\\nvalue = [0, 0, 0, 0, 1, 0, 0, 0, 2, 0, 0, 0, 2, 0]'),\n",
       " Text(182.31683168316835, 40.77000000000001, 'X[2] <= 75.0\\nentropy = 0.843\\nsamples = 244\\nvalue = [3, 4, 12, 10, 14, 73, 25, 19, 5, 3, 9, 23, 44\\n0]'),\n",
       " Text(180.65940594059407, 13.590000000000003, 'entropy = 0.869\\nsamples = 41\\nvalue = [1, 0, 2, 3, 4, 7, 9, 4, 2, 0, 1, 2, 6, 0]'),\n",
       " Text(183.9742574257426, 13.590000000000003, 'entropy = 0.828\\nsamples = 203\\nvalue = [2, 4, 10, 7, 10, 66, 16, 15, 3, 3, 8, 21, 38\\n0]'),\n",
       " Text(261.8732673267327, 176.67000000000002, 'X[0] <= 0.5\\nentropy = 0.875\\nsamples = 19271\\nvalue = [556, 385, 1006, 1862, 1860, 4888, 2037, 2134, 1541\\n487, 572, 461, 1479, 3]'),\n",
       " Text(227.06732673267328, 149.49, 'X[4] <= 43.5\\nentropy = 0.849\\nsamples = 936\\nvalue = [30, 11, 27, 43, 50, 258, 69, 71, 57, 20, 51, 45\\n204, 0]'),\n",
       " Text(212.15049504950497, 122.31, 'X[5] <= 9.5\\nentropy = 0.85\\nsamples = 921\\nvalue = [30, 11, 27, 43, 50, 256, 69, 71, 57, 20, 51, 41\\n195, 0]'),\n",
       " Text(198.8910891089109, 95.13, 'X[2] <= 315.0\\nentropy = 0.848\\nsamples = 856\\nvalue = [27, 10, 26, 43, 48, 240, 63, 69, 52, 19, 37, 38\\n184, 0]'),\n",
       " Text(192.2613861386139, 67.94999999999999, 'X[5] <= 2.5\\nentropy = 0.838\\nsamples = 488\\nvalue = [13, 2, 14, 25, 28, 134, 37, 41, 33, 11, 11, 20\\n119, 0]'),\n",
       " Text(188.94653465346536, 40.77000000000001, 'X[4] <= 7.5\\nentropy = 0.735\\nsamples = 20\\nvalue = [1, 0, 1, 2, 0, 3, 0, 0, 0, 0, 1, 3, 9, 0]'),\n",
       " Text(187.28910891089112, 13.590000000000003, 'entropy = 0.649\\nsamples = 15\\nvalue = [1, 0, 1, 0, 0, 2, 0, 0, 0, 0, 0, 3, 8, 0]'),\n",
       " Text(190.6039603960396, 13.590000000000003, 'entropy = 0.72\\nsamples = 5\\nvalue = [0, 0, 0, 2, 0, 1, 0, 0, 0, 0, 1, 0, 1, 0]'),\n",
       " Text(195.57623762376238, 40.77000000000001, 'X[5] <= 6.5\\nentropy = 0.838\\nsamples = 468\\nvalue = [12, 2, 13, 23, 28, 131, 37, 41, 33, 11, 10, 17\\n110, 0]'),\n",
       " Text(193.91881188118813, 13.590000000000003, 'entropy = 0.844\\nsamples = 241\\nvalue = [7, 1, 6, 14, 12, 71, 20, 26, 15, 9, 5, 9, 46\\n0]'),\n",
       " Text(197.23366336633666, 13.590000000000003, 'entropy = 0.825\\nsamples = 227\\nvalue = [5, 1, 7, 9, 16, 60, 17, 15, 18, 2, 5, 8, 64\\n0]'),\n",
       " Text(205.52079207920795, 67.94999999999999, 'X[2] <= 7221.5\\nentropy = 0.856\\nsamples = 368\\nvalue = [14, 8, 12, 18, 20, 106, 26, 28, 19, 8, 26, 18\\n65, 0]'),\n",
       " Text(202.20594059405943, 40.77000000000001, 'X[4] <= 0.5\\nentropy = 0.856\\nsamples = 354\\nvalue = [14, 8, 10, 18, 20, 104, 26, 27, 19, 8, 24, 17\\n59, 0]'),\n",
       " Text(200.54851485148515, 13.590000000000003, 'entropy = 0.72\\nsamples = 5\\nvalue = [1, 0, 1, 2, 0, 1, 0, 0, 0, 0, 0, 0, 0, 0]'),\n",
       " Text(203.86336633663367, 13.590000000000003, 'entropy = 0.854\\nsamples = 349\\nvalue = [13, 8, 9, 16, 20, 103, 26, 27, 19, 8, 24, 17\\n59, 0]'),\n",
       " Text(208.83564356435645, 40.77000000000001, 'X[5] <= 4.0\\nentropy = 0.745\\nsamples = 14\\nvalue = [0, 0, 2, 0, 0, 2, 0, 1, 0, 0, 2, 1, 6, 0]'),\n",
       " Text(207.1782178217822, 13.590000000000003, 'entropy = 0.0\\nsamples = 2\\nvalue = [0, 0, 0, 0, 0, 2, 0, 0, 0, 0, 0, 0, 0, 0]'),\n",
       " Text(210.49306930693072, 13.590000000000003, 'entropy = 0.681\\nsamples = 12\\nvalue = [0, 0, 2, 0, 0, 0, 0, 1, 0, 0, 2, 1, 6, 0]'),\n",
       " Text(225.40990099009903, 95.13, 'X[4] <= 8.5\\nentropy = 0.843\\nsamples = 65\\nvalue = [3, 1, 1, 0, 2, 16, 6, 2, 5, 1, 14, 3, 11, 0]'),\n",
       " Text(218.780198019802, 67.94999999999999, 'X[3] <= 49.0\\nentropy = 0.846\\nsamples = 35\\nvalue = [1, 1, 1, 0, 2, 10, 6, 0, 4, 1, 4, 2, 3, 0]'),\n",
       " Text(215.4653465346535, 40.77000000000001, 'X[1] <= 3.0\\nentropy = 0.809\\nsamples = 29\\nvalue = [1, 0, 1, 0, 2, 10, 5, 0, 4, 1, 3, 0, 2, 0]'),\n",
       " Text(213.80792079207922, 13.590000000000003, 'entropy = 0.815\\nsamples = 9\\nvalue = [0, 0, 1, 0, 0, 2, 0, 0, 2, 1, 2, 0, 1, 0]'),\n",
       " Text(217.12277227722774, 13.590000000000003, 'entropy = 0.75\\nsamples = 20\\nvalue = [1, 0, 0, 0, 2, 8, 5, 0, 2, 0, 1, 0, 1, 0]'),\n",
       " Text(222.0950495049505, 40.77000000000001, 'X[5] <= 49.0\\nentropy = 0.778\\nsamples = 6\\nvalue = [0, 1, 0, 0, 0, 0, 1, 0, 0, 0, 1, 2, 1, 0]'),\n",
       " Text(220.43762376237626, 13.590000000000003, 'entropy = 0.5\\nsamples = 2\\nvalue = [0, 0, 0, 0, 0, 0, 1, 0, 0, 0, 1, 0, 0, 0]'),\n",
       " Text(223.75247524752479, 13.590000000000003, 'entropy = 0.625\\nsamples = 4\\nvalue = [0, 1, 0, 0, 0, 0, 0, 0, 0, 0, 0, 2, 1, 0]'),\n",
       " Text(232.03960396039605, 67.94999999999999, 'X[3] <= 9.5\\nentropy = 0.767\\nsamples = 30\\nvalue = [2, 0, 0, 0, 0, 6, 0, 2, 1, 0, 10, 1, 8, 0]'),\n",
       " Text(228.72475247524756, 40.77000000000001, 'X[1] <= 4.5\\nentropy = 0.649\\nsamples = 15\\nvalue = [0, 0, 0, 0, 0, 3, 0, 1, 1, 0, 8, 0, 2, 0]'),\n",
       " Text(227.06732673267328, 13.590000000000003, 'entropy = 0.765\\nsamples = 9\\nvalue = [0, 0, 0, 0, 0, 2, 0, 1, 1, 0, 3, 0, 2, 0]'),\n",
       " Text(230.3821782178218, 13.590000000000003, 'entropy = 0.278\\nsamples = 6\\nvalue = [0, 0, 0, 0, 0, 1, 0, 0, 0, 0, 5, 0, 0, 0]'),\n",
       " Text(235.35445544554457, 40.77000000000001, 'X[2] <= 285.0\\nentropy = 0.756\\nsamples = 15\\nvalue = [2, 0, 0, 0, 0, 3, 0, 1, 0, 0, 2, 1, 6, 0]'),\n",
       " Text(233.69702970297033, 13.590000000000003, 'entropy = 0.722\\nsamples = 6\\nvalue = [1, 0, 0, 0, 0, 2, 0, 0, 0, 0, 2, 0, 1, 0]'),\n",
       " Text(237.01188118811882, 13.590000000000003, 'entropy = 0.642\\nsamples = 9\\nvalue = [1, 0, 0, 0, 0, 1, 0, 1, 0, 0, 0, 1, 5, 0]'),\n",
       " Text(241.9841584158416, 122.31, 'X[2] <= 420.0\\nentropy = 0.551\\nsamples = 15\\nvalue = [0, 0, 0, 0, 0, 2, 0, 0, 0, 0, 0, 4, 9, 0]'),\n",
       " Text(238.6693069306931, 95.13, 'X[5] <= 3.0\\nentropy = 0.198\\nsamples = 9\\nvalue = [0, 0, 0, 0, 0, 0, 0, 0, 0, 0, 0, 1, 8, 0]'),\n",
       " Text(237.01188118811882, 67.94999999999999, 'entropy = 0.0\\nsamples = 1\\nvalue = [0, 0, 0, 0, 0, 0, 0, 0, 0, 0, 0, 1, 0, 0]'),\n",
       " Text(240.32673267326734, 67.94999999999999, 'entropy = 0.0\\nsamples = 8\\nvalue = [0, 0, 0, 0, 0, 0, 0, 0, 0, 0, 0, 0, 8, 0]'),\n",
       " Text(245.29900990099011, 95.13, 'X[1] <= 6.5\\nentropy = 0.611\\nsamples = 6\\nvalue = [0, 0, 0, 0, 0, 2, 0, 0, 0, 0, 0, 3, 1, 0]'),\n",
       " Text(243.64158415841587, 67.94999999999999, 'X[1] <= 3.5\\nentropy = 0.48\\nsamples = 5\\nvalue = [0, 0, 0, 0, 0, 2, 0, 0, 0, 0, 0, 3, 0, 0]'),\n",
       " Text(241.9841584158416, 40.77000000000001, 'X[3] <= 8.0\\nentropy = 0.444\\nsamples = 3\\nvalue = [0, 0, 0, 0, 0, 2, 0, 0, 0, 0, 0, 1, 0, 0]'),\n",
       " Text(240.32673267326734, 13.590000000000003, 'entropy = 0.0\\nsamples = 1\\nvalue = [0, 0, 0, 0, 0, 1, 0, 0, 0, 0, 0, 0, 0, 0]'),\n",
       " Text(243.64158415841587, 13.590000000000003, 'entropy = 0.5\\nsamples = 2\\nvalue = [0, 0, 0, 0, 0, 1, 0, 0, 0, 0, 0, 1, 0, 0]'),\n",
       " Text(245.29900990099011, 40.77000000000001, 'entropy = 0.0\\nsamples = 2\\nvalue = [0, 0, 0, 0, 0, 0, 0, 0, 0, 0, 0, 2, 0, 0]'),\n",
       " Text(246.9564356435644, 67.94999999999999, 'entropy = 0.0\\nsamples = 1\\nvalue = [0, 0, 0, 0, 0, 0, 0, 0, 0, 0, 0, 0, 1, 0]'),\n",
       " Text(296.6792079207921, 149.49, 'X[0] <= 1157.5\\nentropy = 0.875\\nsamples = 18335\\nvalue = [526, 374, 979, 1819, 1810, 4630, 1968, 2063, 1484\\n467, 521, 416, 1275, 3]'),\n",
       " Text(271.8178217821782, 122.31, 'X[1] <= 1.5\\nentropy = 0.874\\nsamples = 18112\\nvalue = [518, 371, 973, 1815, 1798, 4594, 1948, 2052, 1471\\n464, 512, 373, 1220, 3]'),\n",
       " Text(258.5584158415842, 95.13, 'X[3] <= 9.5\\nentropy = 0.878\\nsamples = 2444\\nvalue = [87, 71, 106, 175, 164, 632, 212, 232, 200, 83, 144\\n58, 279, 1]'),\n",
       " Text(251.92871287128716, 67.94999999999999, 'X[5] <= 82.5\\nentropy = 0.875\\nsamples = 2205\\nvalue = [71, 66, 96, 161, 151, 583, 196, 218, 187, 76, 103\\n54, 242, 1]'),\n",
       " Text(248.61386138613864, 40.77000000000001, 'X[5] <= 6.5\\nentropy = 0.875\\nsamples = 2193\\nvalue = [71, 65, 96, 158, 151, 582, 196, 218, 187, 76, 102\\n54, 236, 1]'),\n",
       " Text(246.9564356435644, 13.590000000000003, 'entropy = 0.877\\nsamples = 1119\\nvalue = [35, 40, 45, 102, 90, 288, 94, 99, 97, 38, 40, 21\\n129, 1]'),\n",
       " Text(250.27128712871288, 13.590000000000003, 'entropy = 0.871\\nsamples = 1074\\nvalue = [36, 25, 51, 56, 61, 294, 102, 119, 90, 38, 62\\n33, 107, 0]'),\n",
       " Text(255.24356435643566, 40.77000000000001, 'X[0] <= 105.0\\nentropy = 0.667\\nsamples = 12\\nvalue = [0, 1, 0, 3, 0, 1, 0, 0, 0, 0, 1, 0, 6, 0]'),\n",
       " Text(253.5861386138614, 13.590000000000003, 'entropy = 0.741\\nsamples = 9\\nvalue = [0, 1, 0, 3, 0, 1, 0, 0, 0, 0, 1, 0, 3, 0]'),\n",
       " Text(256.9009900990099, 13.590000000000003, 'entropy = 0.0\\nsamples = 3\\nvalue = [0, 0, 0, 0, 0, 0, 0, 0, 0, 0, 0, 0, 3, 0]'),\n",
       " Text(265.1881188118812, 67.94999999999999, 'X[4] <= 49.0\\nentropy = 0.88\\nsamples = 239\\nvalue = [16, 5, 10, 14, 13, 49, 16, 14, 13, 7, 41, 4\\n37, 0]'),\n",
       " Text(261.8732673267327, 40.77000000000001, 'X[5] <= 7.5\\nentropy = 0.881\\nsamples = 228\\nvalue = [16, 5, 10, 12, 13, 48, 16, 14, 13, 7, 40, 4\\n30, 0]'),\n",
       " Text(260.21584158415845, 13.590000000000003, 'entropy = 0.846\\nsamples = 101\\nvalue = [6, 0, 7, 2, 5, 30, 6, 4, 7, 2, 16, 2, 14, 0]'),\n",
       " Text(263.53069306930695, 13.590000000000003, 'entropy = 0.893\\nsamples = 127\\nvalue = [10, 5, 3, 10, 8, 18, 10, 10, 6, 5, 24, 2, 16\\n0]'),\n",
       " Text(268.5029702970297, 40.77000000000001, 'X[5] <= 49.0\\nentropy = 0.545\\nsamples = 11\\nvalue = [0, 0, 0, 2, 0, 1, 0, 0, 0, 0, 1, 0, 7, 0]'),\n",
       " Text(266.84554455445544, 13.590000000000003, 'entropy = 0.656\\nsamples = 8\\nvalue = [0, 0, 0, 2, 0, 1, 0, 0, 0, 0, 1, 0, 4, 0]'),\n",
       " Text(270.160396039604, 13.590000000000003, 'entropy = 0.0\\nsamples = 3\\nvalue = [0, 0, 0, 0, 0, 0, 0, 0, 0, 0, 0, 0, 3, 0]'),\n",
       " Text(285.0772277227723, 95.13, 'X[0] <= 32.5\\nentropy = 0.873\\nsamples = 15668\\nvalue = [431, 300, 867, 1640, 1634, 3962, 1736, 1820, 1271\\n381, 368, 315, 941, 2]'),\n",
       " Text(278.44752475247526, 67.94999999999999, 'X[3] <= 7.5\\nentropy = 0.86\\nsamples = 5719\\nvalue = [129, 94, 313, 589, 549, 1623, 604, 641, 391, 100\\n118, 118, 449, 1]'),\n",
       " Text(275.13267326732677, 40.77000000000001, 'X[4] <= 82.5\\nentropy = 0.85\\nsamples = 3729\\nvalue = [70, 53, 180, 368, 380, 1124, 415, 434, 221, 55, 64\\n85, 279, 1]'),\n",
       " Text(273.4752475247525, 13.590000000000003, 'entropy = 0.85\\nsamples = 3718\\nvalue = [70, 53, 180, 368, 379, 1124, 415, 431, 221, 55, 64\\n84, 273, 1]'),\n",
       " Text(276.79009900990104, 13.590000000000003, 'entropy = 0.612\\nsamples = 11\\nvalue = [0, 0, 0, 0, 1, 0, 0, 3, 0, 0, 0, 1, 6, 0]'),\n",
       " Text(281.7623762376238, 40.77000000000001, 'X[3] <= 9.5\\nentropy = 0.876\\nsamples = 1990\\nvalue = [59, 41, 133, 221, 169, 499, 189, 207, 170, 45, 54\\n33, 170, 0]'),\n",
       " Text(280.10495049504954, 13.590000000000003, 'entropy = 0.874\\nsamples = 1774\\nvalue = [39, 38, 123, 202, 159, 440, 179, 194, 156, 41, 37\\n25, 141, 0]'),\n",
       " Text(283.41980198019803, 13.590000000000003, 'entropy = 0.869\\nsamples = 216\\nvalue = [20, 3, 10, 19, 10, 59, 10, 13, 14, 4, 17, 8\\n29, 0]'),\n",
       " Text(291.70693069306935, 67.94999999999999, 'X[4] <= 5.5\\nentropy = 0.878\\nsamples = 9949\\nvalue = [302, 206, 554, 1051, 1085, 2339, 1132, 1179, 880\\n281, 250, 197, 492, 1]'),\n",
       " Text(288.3920792079208, 40.77000000000001, 'X[4] <= 2.5\\nentropy = 0.868\\nsamples = 1816\\nvalue = [65, 40, 85, 183, 184, 499, 190, 174, 128, 35, 66\\n40, 127, 0]'),\n",
       " Text(286.7346534653466, 13.590000000000003, 'entropy = 0.871\\nsamples = 152\\nvalue = [11, 5, 10, 10, 20, 38, 6, 22, 13, 4, 9, 1, 3\\n0]'),\n",
       " Text(290.0495049504951, 13.590000000000003, 'entropy = 0.866\\nsamples = 1664\\nvalue = [54, 35, 75, 173, 164, 461, 184, 152, 115, 31, 57\\n39, 124, 0]'),\n",
       " Text(295.02178217821785, 40.77000000000001, 'X[1] <= 4.5\\nentropy = 0.88\\nsamples = 8133\\nvalue = [237, 166, 469, 868, 901, 1840, 942, 1005, 752, 246\\n184, 157, 365, 1]'),\n",
       " Text(293.3643564356436, 13.590000000000003, 'entropy = 0.873\\nsamples = 1967\\nvalue = [55, 27, 101, 162, 216, 506, 216, 222, 168, 49, 60\\n72, 112, 1]'),\n",
       " Text(296.6792079207921, 13.590000000000003, 'entropy = 0.881\\nsamples = 6166\\nvalue = [182, 139, 368, 706, 685, 1334, 726, 783, 584, 197\\n124, 85, 253, 0]'),\n",
       " Text(321.540594059406, 122.31, 'X[1] <= 6.0\\nentropy = 0.855\\nsamples = 223\\nvalue = [8, 3, 6, 4, 12, 36, 20, 11, 13, 3, 9, 43, 55\\n0]'),\n",
       " Text(311.59603960396043, 95.13, 'X[2] <= 235.0\\nentropy = 0.855\\nsamples = 208\\nvalue = [8, 3, 6, 3, 12, 36, 18, 11, 11, 3, 9, 34, 54\\n0]'),\n",
       " Text(304.9663366336634, 67.94999999999999, 'X[4] <= 7.5\\nentropy = 0.894\\nsamples = 56\\nvalue = [3, 0, 4, 2, 3, 8, 6, 5, 8, 1, 2, 6, 8, 0]'),\n",
       " Text(301.6514851485149, 40.77000000000001, 'X[0] <= 1167.5\\nentropy = 0.868\\nsamples = 37\\nvalue = [1, 0, 2, 1, 0, 7, 6, 4, 2, 1, 2, 4, 7, 0]'),\n",
       " Text(299.9940594059406, 13.590000000000003, 'entropy = 0.0\\nsamples = 2\\nvalue = [0, 0, 0, 0, 0, 0, 0, 0, 0, 0, 0, 0, 2, 0]'),\n",
       " Text(303.3089108910891, 13.590000000000003, 'entropy = 0.872\\nsamples = 35\\nvalue = [1, 0, 2, 1, 0, 7, 6, 4, 2, 1, 2, 4, 5, 0]'),\n",
       " Text(308.2811881188119, 40.77000000000001, 'X[2] <= 92.5\\nentropy = 0.831\\nsamples = 19\\nvalue = [2, 0, 2, 1, 3, 1, 0, 1, 6, 0, 0, 2, 1, 0]'),\n",
       " Text(306.62376237623766, 13.590000000000003, 'entropy = 0.776\\nsamples = 7\\nvalue = [2, 0, 2, 0, 0, 0, 0, 0, 1, 0, 0, 1, 1, 0]'),\n",
       " Text(309.93861386138616, 13.590000000000003, 'entropy = 0.736\\nsamples = 12\\nvalue = [0, 0, 0, 1, 3, 1, 0, 1, 5, 0, 0, 1, 0, 0]'),\n",
       " Text(318.2257425742574, 67.94999999999999, 'X[5] <= 7.5\\nentropy = 0.825\\nsamples = 152\\nvalue = [5, 3, 2, 1, 9, 28, 12, 6, 3, 2, 7, 28, 46, 0]'),\n",
       " Text(314.91089108910893, 40.77000000000001, 'X[5] <= 5.5\\nentropy = 0.845\\nsamples = 115\\nvalue = [3, 1, 2, 1, 8, 23, 9, 6, 3, 2, 7, 22, 28, 0]'),\n",
       " Text(313.25346534653465, 13.590000000000003, 'entropy = 0.81\\nsamples = 49\\nvalue = [1, 0, 2, 0, 4, 13, 3, 1, 2, 1, 3, 4, 15, 0]'),\n",
       " Text(316.5683168316832, 13.590000000000003, 'entropy = 0.841\\nsamples = 66\\nvalue = [2, 1, 0, 1, 4, 10, 6, 5, 1, 1, 4, 18, 13, 0]'),\n",
       " Text(321.540594059406, 40.77000000000001, 'X[0] <= 9443.5\\nentropy = 0.706\\nsamples = 37\\nvalue = [2, 2, 0, 0, 1, 5, 3, 0, 0, 0, 0, 6, 18, 0]'),\n",
       " Text(319.8831683168317, 13.590000000000003, 'entropy = 0.648\\nsamples = 33\\nvalue = [1, 2, 0, 0, 0, 5, 2, 0, 0, 0, 0, 5, 18, 0]'),\n",
       " Text(323.19801980198025, 13.590000000000003, 'entropy = 0.75\\nsamples = 4\\nvalue = [1, 0, 0, 0, 1, 0, 1, 0, 0, 0, 0, 1, 0, 0]'),\n",
       " Text(331.4851485148515, 95.13, 'X[0] <= 9443.5\\nentropy = 0.596\\nsamples = 15\\nvalue = [0, 0, 0, 1, 0, 0, 2, 0, 2, 0, 0, 9, 1, 0]'),\n",
       " Text(329.82772277227724, 67.94999999999999, 'X[3] <= 8.5\\nentropy = 0.541\\nsamples = 14\\nvalue = [0, 0, 0, 0, 0, 0, 2, 0, 2, 0, 0, 9, 1, 0]'),\n",
       " Text(328.170297029703, 40.77000000000001, 'X[4] <= 6.5\\nentropy = 0.691\\nsamples = 9\\nvalue = [0, 0, 0, 0, 0, 0, 2, 0, 2, 0, 0, 4, 1, 0]'),\n",
       " Text(326.51287128712875, 13.590000000000003, 'entropy = 0.444\\nsamples = 6\\nvalue = [0, 0, 0, 0, 0, 0, 2, 0, 0, 0, 0, 4, 0, 0]'),\n",
       " Text(329.82772277227724, 13.590000000000003, 'entropy = 0.444\\nsamples = 3\\nvalue = [0, 0, 0, 0, 0, 0, 0, 0, 2, 0, 0, 0, 1, 0]'),\n",
       " Text(331.4851485148515, 40.77000000000001, 'entropy = 0.0\\nsamples = 5\\nvalue = [0, 0, 0, 0, 0, 0, 0, 0, 0, 0, 0, 5, 0, 0]'),\n",
       " Text(333.1425742574258, 67.94999999999999, 'entropy = 0.0\\nsamples = 1\\nvalue = [0, 0, 0, 1, 0, 0, 0, 0, 0, 0, 0, 0, 0, 0]')]"
      ]
     },
     "execution_count": 102,
     "metadata": {},
     "output_type": "execute_result"
    },
    {
     "data": {
      "image/png": "[encoded data removed]",
      "text/plain": [
       "<Figure size 432x288 with 1 Axes>"
      ]
     },
     "metadata": {
      "needs_background": "light"
     },
     "output_type": "display_data"
    }
   ],
   "source": [
    "from sklearn import tree\n",
    "tree.plot_tree(clf) "
   ]
  },
  {
   "cell_type": "markdown",
   "metadata": {},
   "source": [
    "Predict Jowita's political view:"
   ]
  },
  {
   "cell_type": "code",
   "execution_count": 97,
   "metadata": {},
   "outputs": [],
   "source": [
    "#create a dataform with all the answers\n",
    "#j_test = data[5, 5,600,8,8,7]\n",
    "j_test = pd.read_csv('/Users/jowi/Desktop/uni/DataMining/DataMining-FinalProject/jowita.csv')\n",
    "j_test_liberal = pd.read_csv('/Users/jowi/Desktop/uni/DataMining/DataMining-FinalProject/jowitaLiberal.csv')\n",
    "j_test_not_Trusting = pd.read_csv('/Users/jowi/Desktop/uni/DataMining/DataMining-FinalProject/jowitaNotTrusting.csv')\n",
    "jowita_pred = clf.predict(j_test)\n",
    "jowita_pred_liberal = clf.predict(j_test_liberal)\n",
    "jowita_pred_not_trusting = clf.predict(j_test_not_Trusting)"
   ]
  },
  {
   "cell_type": "code",
   "execution_count": 98,
   "metadata": {},
   "outputs": [
    {
     "name": "stdout",
     "output_type": "stream",
     "text": [
      "[5]\n",
      "[5]\n",
      "[5]\n"
     ]
    }
   ],
   "source": [
    "print(jowita_pred)\n",
    "print(jowita_pred_liberal)\n",
    "print(jowita_pred_not_trusting)"
   ]
  },
  {
   "cell_type": "code",
   "execution_count": null,
   "metadata": {},
   "outputs": [],
   "source": [
    "#Current situation 0 without specifying max depth the accuracy is very low however the predictions at lest differ. \n",
    "#With max depth specified the accuracy is better (30%) but the predictions are all 5 (for veery different input).\n",
    "# Can the problem be that there is no much relationship between the answerst to that question and the political orientation?"
   ]
  }
 ],
 "metadata": {
  "kernelspec": {
   "display_name": "Python 3",
   "language": "python",
   "name": "python3"
  },
  "language_info": {
   "codemirror_mode": {
    "name": "ipython",
    "version": 3
   },
   "file_extension": ".py",
   "mimetype": "text/x-python",
   "name": "python",
   "nbconvert_exporter": "python",
   "pygments_lexer": "ipython3",
   "version": "3.7.3"
  }
 },
 "nbformat": 4,
 "nbformat_minor": 4
}
