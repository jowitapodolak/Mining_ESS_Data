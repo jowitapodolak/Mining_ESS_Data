{
 "cells": [
  {
   "cell_type": "code",
   "execution_count": 1,
   "metadata": {},
   "outputs": [
    {
     "name": "stderr",
     "output_type": "stream",
     "text": [
      "//anaconda3/lib/python3.7/site-packages/IPython/core/interactiveshell.py:3057: DtypeWarning: Columns (164) have mixed types. Specify dtype option on import or set low_memory=False.\n",
      "  interactivity=interactivity, compiler=compiler, result=result)\n"
     ]
    }
   ],
   "source": [
    "import pandas as pd \n",
    "import numpy as np\n",
    "import random\n",
    "import matplotlib.pyplot as plt\n",
    "import seaborn as sns; \n",
    "import math\n",
    "dataInfor = pd.read_csv('/Users/jowi/Desktop/uni/DataMining/DataMining-FinalProject/european-social-survey/variables.csv') #metadata\n",
    "\n",
    "data = pd.read_csv('/Users/jowi/Desktop/uni/DataMining/DataMining-FinalProject/european-social-survey/ESS8e02.1_F1.csv') #data\n",
    "#pd.set_option('display.max_colwidth', -1)\n",
    "#print(data['Question']) <- see all the questions"
   ]
  },
  {
   "cell_type": "code",
   "execution_count": 2,
   "metadata": {},
   "outputs": [
    {
     "name": "stdout",
     "output_type": "stream",
     "text": [
      "Empty DataFrame\n",
      "Columns: [name, essround, edition, proddate, idno, cntry, nwspol, netusoft, netustm, ppltrst, pplfair, pplhlp, polintr, psppsgva, actrolga, psppipla, cptppola, trstprl, trstlgl, trstplc, trstplt, trstprt, trstep, trstun, vote, prtvtbat, prtvtcbe, prtvtfch, prtvtdcz, prtvede1, prtvede2, prtvtfee, prtvtdes, prtvtdfi, prtvtcfr, prtvtbgb, prtvtehu, prtvtbie, prtvtcil, prtvtbis, prtvtbit, prtvblt1, prtvblt2, prtvblt3, prtvtfnl, prtvtbno, prtvtdpl, prtvtcpt, prtvtdru, prtvtbse, prtvtesi, contplt, wrkprty, wrkorg, badge, sgnptit, pbldmn, bctprd, pstplonl, clsprty, prtclcat, prtclcbe, prtclfch, prtcldcz, prtclede, prtclfee, prtclees, prtcldfi, prtclefr, prtclbgb, prtclfhu, prtcldie, prtcldil, prtclbis, prtclcit, prtclblt, prtclenl, prtclbno, prtclgpl, prtclept, prtcldru, prtclbse, prtclesi, prtdgcl, lrscale, stflife, stfeco, stfgov, stfdem, stfedu, stfhlth, gincdif, mnrgtjb, freehms, hmsfmlsh, hmsacld, euftf, imsmetn, imdfetn, impcntr, ...]\n",
      "Index: []\n",
      "\n",
      "[0 rows x 534 columns]\n"
     ]
    }
   ],
   "source": [
    "print(data.head(0)) \n"
   ]
  },
  {
   "cell_type": "code",
   "execution_count": 3,
   "metadata": {},
   "outputs": [],
   "source": [
    "countries = data[['idno','cntry']].groupby('cntry')\n",
    "#After this operation I get a dataframe wiht idno as a column name anc=d cntry as INDEX"
   ]
  },
  {
   "cell_type": "code",
   "execution_count": 4,
   "metadata": {},
   "outputs": [
    {
     "name": "stdout",
     "output_type": "stream",
     "text": [
      "       idno\n",
      "cntry      \n",
      "AT     2010\n",
      "BE     1766\n",
      "CH     1525\n",
      "CZ     2269\n",
      "DE     2852\n",
      "EE     2019\n",
      "ES     1958\n",
      "FI     1925\n",
      "FR     2070\n",
      "GB     1959\n",
      "HU     1614\n",
      "IE     2757\n",
      "IL     2557\n",
      "IS      880\n",
      "IT     2626\n",
      "LT     2122\n",
      "NL     1681\n",
      "NO     1545\n",
      "PL     1694\n",
      "PT     1270\n",
      "RU     2430\n",
      "SE     1551\n",
      "SI     1307\n"
     ]
    }
   ],
   "source": [
    "peoplePerCountry = countries.count() #how many people from each country\n",
    "print(peoplePerCountry)"
   ]
  },
  {
   "cell_type": "code",
   "execution_count": 5,
   "metadata": {},
   "outputs": [
    {
     "data": {
      "text/plain": [
       "<matplotlib.axes._subplots.AxesSubplot at 0x10f59f9b0>"
      ]
     },
     "execution_count": 5,
     "metadata": {},
     "output_type": "execute_result"
    },
    {
     "data": {
      "image/png": "[encoded data removed]",
      "text/plain": [
       "<Figure size 720x432 with 1 Axes>"
      ]
     },
     "metadata": {
      "needs_background": "light"
     },
     "output_type": "display_data"
    }
   ],
   "source": [
    "peoplePerCountry.plot.bar(rot=0, fontsize=8, width=0.9, figsize=(10,6))"
   ]
  },
  {
   "cell_type": "code",
   "execution_count": 6,
   "metadata": {},
   "outputs": [
    {
     "data": {
      "text/plain": [
       "44387"
      ]
     },
     "execution_count": 6,
     "metadata": {},
     "output_type": "execute_result"
    }
   ],
   "source": [
    "# in total: \n",
    "peoplePerCountry['idno'].sum() #44387 people took participation in the survey"
   ]
  },
  {
   "cell_type": "code",
   "execution_count": 7,
   "metadata": {},
   "outputs": [],
   "source": [
    "# derive germany and poland:\n",
    "dataPL = data[ data['cntry'] == 'PL']\n",
    "dataGE = data[ data['cntry'] == 'GE']"
   ]
  },
  {
   "cell_type": "code",
   "execution_count": 8,
   "metadata": {},
   "outputs": [],
   "source": [
    "#we choose our label to be column = that asks whether a person is defining themselves as right or left wing:\n",
    "# column - lrscale - discrete values from 0 to 10 (ten meaning right) \n",
    "# only take into consideration 1 to 9 - the rest skew the data (10 Better place to live,77 Refusal,88 Don't know, 99 NA)\n",
    "#OR  - take mean which should be around 5:\n",
    "\n",
    "#data['happy'] = data['happy'].replace([77,88,99], 5, inplace=True) <- not working, dunno how to do it\n",
    "#print(data[['happy','cntry']])\n",
    "happiness = data[['happy','cntry']].groupby('cntry')\n",
    "HappinessPerCountry = happiness.mean() \n"
   ]
  },
  {
   "cell_type": "code",
   "execution_count": 9,
   "metadata": {},
   "outputs": [
    {
     "name": "stdout",
     "output_type": "stream",
     "text": [
      "          happy\n",
      "cntry          \n",
      "AT     7.884577\n",
      "BE     7.792752\n",
      "CH     8.280000\n",
      "CZ     7.068312\n",
      "DE     7.833100\n",
      "EE     7.437841\n",
      "ES     7.940756\n",
      "FI     8.269091\n",
      "FR     7.286473\n",
      "GB     7.671771\n",
      "HU     6.989467\n",
      "IE     7.535727\n",
      "IL     8.492374\n",
      "IS     8.315909\n",
      "IT     7.474105\n",
      "LT     7.913761\n",
      "NL     8.009518\n",
      "NO     8.157282\n",
      "PL     9.640496\n",
      "PT     7.479528\n",
      "RU     7.378601\n",
      "SE     8.292070\n",
      "SI     7.758225\n"
     ]
    }
   ],
   "source": [
    "print(HappinessPerCountry)"
   ]
  },
  {
   "cell_type": "code",
   "execution_count": 10,
   "metadata": {},
   "outputs": [],
   "source": [
    "# Polish are the happiest? dafuq?"
   ]
  },
  {
   "cell_type": "code",
   "execution_count": 11,
   "metadata": {},
   "outputs": [
    {
     "name": "stdout",
     "output_type": "stream",
     "text": [
      "        atchctr\n",
      "cntry          \n",
      "AT     8.107463\n",
      "BE     6.638165\n",
      "CH     8.041967\n",
      "CZ     7.955046\n",
      "DE     7.636746\n",
      "EE     8.176325\n",
      "ES     8.245148\n",
      "FI     8.638961\n",
      "FR     8.185990\n",
      "GB     7.352731\n",
      "HU     8.656134\n",
      "IE     7.958651\n",
      "IL     8.935862\n",
      "IS     8.406818\n",
      "IT     8.293602\n",
      "LT     9.368992\n",
      "NL     7.281975\n",
      "NO     8.369579\n",
      "PL     8.961039\n",
      "PT     8.762205\n",
      "RU     8.659671\n",
      "SE     8.298517\n",
      "SI     7.820199\n"
     ]
    }
   ],
   "source": [
    "attatchmentToCountry = data[['atchctr','cntry']].groupby('cntry')\n",
    "print(attatchmentToCountry.mean())\n"
   ]
  },
  {
   "cell_type": "code",
   "execution_count": null,
   "metadata": {},
   "outputs": [],
   "source": []
  },
  {
   "cell_type": "code",
   "execution_count": null,
   "metadata": {},
   "outputs": [],
   "source": []
  }
 ],
 "metadata": {
  "kernelspec": {
   "display_name": "Python 3",
   "language": "python",
   "name": "python3"
  },
  "language_info": {
   "codemirror_mode": {
    "name": "ipython",
    "version": 3
   },
   "file_extension": ".py",
   "mimetype": "text/x-python",
   "name": "python",
   "nbconvert_exporter": "python",
   "pygments_lexer": "ipython3",
   "version": "3.7.3"
  }
 },
 "nbformat": 4,
 "nbformat_minor": 4
}
